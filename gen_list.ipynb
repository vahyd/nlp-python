{
 "cells": [
  {
   "cell_type": "code",
   "execution_count": 41,
   "metadata": {},
   "outputs": [],
   "source": [
    "import json \n",
    "json_data = \"F:\\\\WB\\\\nlpcode\\\\sampledocs\\\\Audit\\\\Audit.json\"\n",
    "with open(json_data, encoding=\"utf8\") as data_file:\n",
    "        data_item = json.load(data_file)\n",
    "data = data_item['annotation']\n",
    "\n"
   ]
  },
  {
   "cell_type": "code",
   "execution_count": 42,
   "metadata": {},
   "outputs": [
    {
     "name": "stdout",
     "output_type": "stream",
     "text": [
      "['Capacity Building', 'Program Guidelines', 'Arrangements', 'Other', 'Key Mission', 'Key Mission', 'Other']\n"
     ]
    }
   ],
   "source": [
    "\n",
    "col_list = [item['label'][0] for item in data]\n",
    "col_list = col_list[1:]\n",
    "print(col_list)"
   ]
  },
  {
   "cell_type": "code",
   "execution_count": 14,
   "metadata": {},
   "outputs": [],
   "source": []
  },
  {
   "cell_type": "code",
   "execution_count": 43,
   "metadata": {},
   "outputs": [
    {
     "name": "stdout",
     "output_type": "stream",
     "text": [
      "158\n",
      "6\n",
      "11\n",
      "16\n",
      "8\n",
      "2\n",
      "5\n",
      "38\n"
     ]
    }
   ],
   "source": [
    "from nltk import tokenize\n",
    "for i in range(len(data)):\n",
    "    sentences = tokenize.sent_tokenize(data[i]['points'][0]['text'])\n",
    "    print(len(sentences))"
   ]
  },
  {
   "cell_type": "code",
   "execution_count": 46,
   "metadata": {},
   "outputs": [
    {
     "name": "stdout",
     "output_type": "stream",
     "text": [
      "700\n"
     ]
    }
   ],
   "source": [
    "import random\n",
    "import math\n",
    "\n",
    "others = tokenize.sent_tokenize(data[0]['points'][0]['text'])\n",
    "gen_lst = []\n",
    "for k in range(100):\n",
    "    for i in range(1,len(data)):\n",
    "        sentences = tokenize.sent_tokenize(data[i]['points'][0]['text'])\n",
    "        rnd = random.sample(range(len(sentences)), math.ceil(len(sentences)/4))\n",
    "        org_sentences = [sentences[i] for i in rnd]\n",
    "        rnd = random.sample(range(len(others)), math.ceil(3 * len(sentences)/4))\n",
    "        chn_sentences = [others[i] for i in rnd]\n",
    "        new_sentences = org_sentences + chn_sentences\n",
    "        gen_lst.append([col_list[i-1],''.join(new_sentences)])\n",
    "   \n",
    "\n",
    "print(len(gen_lst))\n",
    "    "
   ]
  },
  {
   "cell_type": "code",
   "execution_count": 47,
   "metadata": {},
   "outputs": [
    {
     "data": {
      "text/html": [
       "<div>\n",
       "<style scoped>\n",
       "    .dataframe tbody tr th:only-of-type {\n",
       "        vertical-align: middle;\n",
       "    }\n",
       "\n",
       "    .dataframe tbody tr th {\n",
       "        vertical-align: top;\n",
       "    }\n",
       "\n",
       "    .dataframe thead th {\n",
       "        text-align: right;\n",
       "    }\n",
       "</style>\n",
       "<table border=\"1\" class=\"dataframe\">\n",
       "  <thead>\n",
       "    <tr style=\"text-align: right;\">\n",
       "      <th></th>\n",
       "      <th>label</th>\n",
       "      <th>pharagraph</th>\n",
       "    </tr>\n",
       "  </thead>\n",
       "  <tbody>\n",
       "    <tr>\n",
       "      <th>0</th>\n",
       "      <td>Capacity Building</td>\n",
       "      <td>In light of the activities suggested above and...</td>\n",
       "    </tr>\n",
       "    <tr>\n",
       "      <th>1</th>\n",
       "      <td>Program Guidelines</td>\n",
       "      <td>The Bank team will support VIHEMA, NCERWASS an...</td>\n",
       "    </tr>\n",
       "    <tr>\n",
       "      <th>2</th>\n",
       "      <td>Arrangements</td>\n",
       "      <td>11.Based on the definitions of the New Rural D...</td>\n",
       "    </tr>\n",
       "    <tr>\n",
       "      <th>3</th>\n",
       "      <td>Other</td>\n",
       "      <td>MARD (in \\n\\ncoordination with  \\n\\nMoH and SA...</td>\n",
       "    </tr>\n",
       "    <tr>\n",
       "      <th>4</th>\n",
       "      <td>Key Mission</td>\n",
       "      <td>water schemes and communes); preparation of fe...</td>\n",
       "    </tr>\n",
       "  </tbody>\n",
       "</table>\n",
       "</div>"
      ],
      "text/plain": [
       "                label                                         pharagraph\n",
       "0   Capacity Building  In light of the activities suggested above and...\n",
       "1  Program Guidelines  The Bank team will support VIHEMA, NCERWASS an...\n",
       "2        Arrangements  11.Based on the definitions of the New Rural D...\n",
       "3               Other  MARD (in \\n\\ncoordination with  \\n\\nMoH and SA...\n",
       "4         Key Mission  water schemes and communes); preparation of fe..."
      ]
     },
     "execution_count": 47,
     "metadata": {},
     "output_type": "execute_result"
    }
   ],
   "source": [
    "import pandas as pd\n",
    "df = pd.DataFrame(gen_lst, columns = ['label','pharagraph'])\n",
    "df.head()\n"
   ]
  }
 ],
 "metadata": {
  "kernelspec": {
   "display_name": "Python 3",
   "language": "python",
   "name": "python3"
  },
  "language_info": {
   "codemirror_mode": {
    "name": "ipython",
    "version": 3
   },
   "file_extension": ".py",
   "mimetype": "text/x-python",
   "name": "python",
   "nbconvert_exporter": "python",
   "pygments_lexer": "ipython3",
   "version": "3.6.4"
  }
 },
 "nbformat": 4,
 "nbformat_minor": 2
}

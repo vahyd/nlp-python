{
 "cells": [
  {
   "cell_type": "code",
   "execution_count": 58,
   "metadata": {},
   "outputs": [],
   "source": [
    "import json \n",
    "json_data = \"F:\\\\WB\\\\nlpcode\\\\sampledocs\\\\Audit\\\\Audit.json\"\n",
    "with open(json_data, encoding=\"utf8\") as data_file:\n",
    "        data_item = json.load(data_file)\n",
    "data = data_item['annotation']\n",
    "# print((data[0]['points'][0]['text']))\n"
   ]
  },
  {
   "cell_type": "code",
   "execution_count": 57,
   "metadata": {},
   "outputs": [
    {
     "name": "stdout",
     "output_type": "stream",
     "text": [
      "['Other']\n",
      "['Capacity Building']\n",
      "['Program Guidelines']\n",
      "['Arrangements']\n",
      "['Other']\n",
      "['Key Mission']\n",
      "['Key Mission']\n",
      "['Other']\n"
     ]
    }
   ],
   "source": [
    "for i in range(len(data)):\n",
    "    print(data[i]['label'])"
   ]
  },
  {
   "cell_type": "code",
   "execution_count": 60,
   "metadata": {},
   "outputs": [
    {
     "name": "stdout",
     "output_type": "stream",
     "text": [
      "158\n",
      "6\n",
      "11\n",
      "16\n",
      "8\n",
      "2\n",
      "5\n",
      "38\n"
     ]
    }
   ],
   "source": [
    "from nltk import tokenize\n",
    "for i in range(len(data)):\n",
    "    sentences = tokenize.sent_tokenize(data[i]['points'][0]['text'])\n",
    "    print(len(sentences))"
   ]
  },
  {
   "cell_type": "code",
   "execution_count": 77,
   "metadata": {},
   "outputs": [
    {
     "name": "stdout",
     "output_type": "stream",
     "text": [
      "100\n"
     ]
    }
   ],
   "source": [
    "import random\n",
    "others = tokenize.sent_tokenize(data[0]['points'][0]['text'])\n",
    "gen_lst = []\n",
    "for k in range(100):\n",
    "    \n",
    "    new_lst = []\n",
    "    for i in range(1,len(data)):\n",
    "\n",
    "        sentences = tokenize.sent_tokenize(data[i]['points'][0]['text'])\n",
    "        rnd = random.sample(range(len(sentences)), int(len(sentences)/2))\n",
    "        org_sentences = [sentences[i] for i in rnd]\n",
    "        rnd = random.sample(range(len(others)), int(len(sentences)/2))\n",
    "        chn_sentences = [others[i] for i in rnd]\n",
    "        new_sentences = org_sentences + chn_sentences\n",
    "        new_lst.append(new_sentences)\n",
    "   \n",
    "    gen_lst.append(new_lst)\n",
    "\n",
    "    \n",
    "print(len(gen_lst))\n",
    "    "
   ]
  },
  {
   "cell_type": "code",
   "execution_count": null,
   "metadata": {},
   "outputs": [],
   "source": []
  }
 ],
 "metadata": {
  "kernelspec": {
   "display_name": "Python 3",
   "language": "python",
   "name": "python3"
  }
 },
 "nbformat": 4,
 "nbformat_minor": 2
}

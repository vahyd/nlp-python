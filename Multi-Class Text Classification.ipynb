{
 "cells": [
  {
   "cell_type": "code",
   "execution_count": 12,
   "metadata": {},
   "outputs": [],
   "source": [
    "#only for resumes sample -> it loads the json file\n",
    "import json \n",
    "import pandas as pd\n",
    "#Downlaod the source data from here https://dataturks.com/blog/named-entity-recognition-in-resumes.php\n",
    "json_data = \"F:\\\\WB\\\\nlpcode\\\\sampledocs\\\\Resumes.json\"\n"
   ]
  },
  {
   "cell_type": "code",
   "execution_count": 13,
   "metadata": {},
   "outputs": [
    {
     "name": "stdout",
     "output_type": "stream",
     "text": [
      "7902\n"
     ]
    },
    {
     "data": {
      "text/html": [
       "<div>\n",
       "<style scoped>\n",
       "    .dataframe tbody tr th:only-of-type {\n",
       "        vertical-align: middle;\n",
       "    }\n",
       "\n",
       "    .dataframe tbody tr th {\n",
       "        vertical-align: top;\n",
       "    }\n",
       "\n",
       "    .dataframe thead th {\n",
       "        text-align: right;\n",
       "    }\n",
       "</style>\n",
       "<table border=\"1\" class=\"dataframe\">\n",
       "  <thead>\n",
       "    <tr style=\"text-align: right;\">\n",
       "      <th></th>\n",
       "      <th>Product</th>\n",
       "      <th>Consumer_complaint_narrative</th>\n",
       "    </tr>\n",
       "  </thead>\n",
       "  <tbody>\n",
       "    <tr>\n",
       "      <th>0</th>\n",
       "      <td>Skills</td>\n",
       "      <td>\\n• Programming language: C, C++, Java\\n• Orac...</td>\n",
       "    </tr>\n",
       "    <tr>\n",
       "      <th>1</th>\n",
       "      <td>Skills</td>\n",
       "      <td>C (Less than 1 year), Database (Less than 1 ye...</td>\n",
       "    </tr>\n",
       "    <tr>\n",
       "      <th>2</th>\n",
       "      <td>College Name</td>\n",
       "      <td>Kendriya Vidyalaya</td>\n",
       "    </tr>\n",
       "    <tr>\n",
       "      <th>3</th>\n",
       "      <td>College Name</td>\n",
       "      <td>Woodbine modern school</td>\n",
       "    </tr>\n",
       "    <tr>\n",
       "      <th>4</th>\n",
       "      <td>Graduation Year</td>\n",
       "      <td>2017\\n</td>\n",
       "    </tr>\n",
       "  </tbody>\n",
       "</table>\n",
       "</div>"
      ],
      "text/plain": [
       "           Product                       Consumer_complaint_narrative\n",
       "0           Skills  \\n• Programming language: C, C++, Java\\n• Orac...\n",
       "1           Skills  C (Less than 1 year), Database (Less than 1 ye...\n",
       "2     College Name                                 Kendriya Vidyalaya\n",
       "3     College Name                             Woodbine modern school\n",
       "4  Graduation Year                                             2017\\n"
      ]
     },
     "execution_count": 13,
     "metadata": {},
     "output_type": "execute_result"
    }
   ],
   "source": [
    "#only for resumes sample -> it converts data to consumers sample format\n",
    "data = []\n",
    "with open(json_data, encoding=\"utf8\") as f:\n",
    "    for line in f:\n",
    "        data.append(json.loads(line))\n",
    "\n",
    "my_list = []\n",
    "for k in range(len(data)-1): \n",
    "    data_item = data[k]['annotation']\n",
    "    for i in range(len(data_item)):\n",
    "        if  data_item[i]['label'] and  data_item[i]['points']:\n",
    "            my_list.append([data_item[i]['label'][0],data_item[i]['points'][0]['text']])\n",
    "\n",
    "df = pd.DataFrame(my_list, columns = ['Product','Consumer_complaint_narrative'])\n",
    "\n",
    "print(len(my_list))\n",
    "\n",
    "df.head()"
   ]
  },
  {
   "cell_type": "code",
   "execution_count": 84,
   "metadata": {},
   "outputs": [],
   "source": [
    "#only for Aide Memoire sample -> it loads json file\n",
    "import json \n",
    "#Download the source data from here: https://dataturks.com/projects/jpark23/Audit%20report/overview?type=all\n",
    "json_data = \"F:\\\\WB\\\\nlpcode\\\\sampledocs\\\\Audit\\\\Audit.json\"\n",
    "with open(json_data, encoding=\"utf8\") as data_file:\n",
    "        data_item = json.load(data_file)\n",
    "data = data_item['annotation']\n",
    "\n"
   ]
  },
  {
   "cell_type": "code",
   "execution_count": 85,
   "metadata": {},
   "outputs": [
    {
     "data": {
      "text/html": [
       "<div>\n",
       "<style scoped>\n",
       "    .dataframe tbody tr th:only-of-type {\n",
       "        vertical-align: middle;\n",
       "    }\n",
       "\n",
       "    .dataframe tbody tr th {\n",
       "        vertical-align: top;\n",
       "    }\n",
       "\n",
       "    .dataframe thead th {\n",
       "        text-align: right;\n",
       "    }\n",
       "</style>\n",
       "<table border=\"1\" class=\"dataframe\">\n",
       "  <thead>\n",
       "    <tr style=\"text-align: right;\">\n",
       "      <th></th>\n",
       "      <th>Product</th>\n",
       "      <th>Consumer_complaint_narrative</th>\n",
       "    </tr>\n",
       "  </thead>\n",
       "  <tbody>\n",
       "    <tr>\n",
       "      <th>0</th>\n",
       "      <td>Program Guidelines</td>\n",
       "      <td>14.15.MARD, together with MoH \\n\\n(VIHEMA) and...</td>\n",
       "    </tr>\n",
       "    <tr>\n",
       "      <th>1</th>\n",
       "      <td>Arrangements</td>\n",
       "      <td>Based on the definitions of the New Rural Deve...</td>\n",
       "    </tr>\n",
       "    <tr>\n",
       "      <th>2</th>\n",
       "      <td>Other</td>\n",
       "      <td>Support for implementation and finalization of...</td>\n",
       "    </tr>\n",
       "    <tr>\n",
       "      <th>3</th>\n",
       "      <td>Key Mission</td>\n",
       "      <td>water schemes and communes); preparation of fe...</td>\n",
       "    </tr>\n",
       "    <tr>\n",
       "      <th>4</th>\n",
       "      <td>Key Mission</td>\n",
       "      <td>9.The Bank team has urged the \\n\\nimplementing...</td>\n",
       "    </tr>\n",
       "  </tbody>\n",
       "</table>\n",
       "</div>"
      ],
      "text/plain": [
       "              Product                       Consumer_complaint_narrative\n",
       "0  Program Guidelines  14.15.MARD, together with MoH \\n\\n(VIHEMA) and...\n",
       "1        Arrangements  Based on the definitions of the New Rural Deve...\n",
       "2               Other  Support for implementation and finalization of...\n",
       "3         Key Mission  water schemes and communes); preparation of fe...\n",
       "4         Key Mission  9.The Bank team has urged the \\n\\nimplementing..."
      ]
     },
     "execution_count": 85,
     "metadata": {},
     "output_type": "execute_result"
    }
   ],
   "source": [
    "#only for Aide Memoire sample -> it converts data to consumers sample format (more detailed explanation in gen_list.ipynb)\n",
    "import pandas as pd\n",
    "import random\n",
    "from nltk import tokenize\n",
    "import math\n",
    "\n",
    "col_list = [item['label'][0] for item in data]\n",
    "col_list = col_list[1:]\n",
    "\n",
    "others = tokenize.sent_tokenize(data[0]['points'][0]['text'])\n",
    "gen_lst = []\n",
    "for k in range(100):\n",
    "    for i in range(1,len(data)):\n",
    "        sentences = tokenize.sent_tokenize(data[i]['points'][0]['text'])\n",
    "        rnd = random.sample(range(len(sentences)), math.ceil(len(sentences)/4))\n",
    "        org_sentences = [sentences[i] for i in rnd]\n",
    "        rnd = random.sample(range(len(others)), math.ceil(3 * len(sentences)/4))\n",
    "        chn_sentences = [others[i] for i in rnd]\n",
    "        new_sentences = org_sentences + chn_sentences\n",
    "        gen_lst.append([col_list[i-1],''.join(new_sentences)])\n",
    "    \n",
    "\n",
    "df = pd.DataFrame(gen_lst[1:len(gen_lst)-10], columns = ['Product','Consumer_complaint_narrative'])\n",
    "\n",
    "df.head()"
   ]
  },
  {
   "cell_type": "code",
   "execution_count": 51,
   "metadata": {},
   "outputs": [
    {
     "data": {
      "text/html": [
       "<div>\n",
       "<style scoped>\n",
       "    .dataframe tbody tr th:only-of-type {\n",
       "        vertical-align: middle;\n",
       "    }\n",
       "\n",
       "    .dataframe tbody tr th {\n",
       "        vertical-align: top;\n",
       "    }\n",
       "\n",
       "    .dataframe thead th {\n",
       "        text-align: right;\n",
       "    }\n",
       "</style>\n",
       "<table border=\"1\" class=\"dataframe\">\n",
       "  <thead>\n",
       "    <tr style=\"text-align: right;\">\n",
       "      <th></th>\n",
       "      <th>Date received</th>\n",
       "      <th>Product</th>\n",
       "      <th>Sub-product</th>\n",
       "      <th>Issue</th>\n",
       "      <th>Sub-issue</th>\n",
       "      <th>Consumer_complaint_narrative</th>\n",
       "      <th>Company public response</th>\n",
       "      <th>Company</th>\n",
       "      <th>State</th>\n",
       "      <th>ZIP code</th>\n",
       "      <th>Tags</th>\n",
       "      <th>Consumer consent provided?</th>\n",
       "      <th>Submitted via</th>\n",
       "      <th>Date sent to company</th>\n",
       "      <th>Company response to consumer</th>\n",
       "      <th>Timely response?</th>\n",
       "      <th>Consumer disputed?</th>\n",
       "      <th>Complaint ID</th>\n",
       "    </tr>\n",
       "  </thead>\n",
       "  <tbody>\n",
       "    <tr>\n",
       "      <th>0</th>\n",
       "      <td>3/12/2014</td>\n",
       "      <td>Mortgage</td>\n",
       "      <td>Other mortgage</td>\n",
       "      <td>Loan modification,collection,foreclosure</td>\n",
       "      <td>NaN</td>\n",
       "      <td>NaN</td>\n",
       "      <td>NaN</td>\n",
       "      <td>M&amp;T BANK CORPORATION</td>\n",
       "      <td>MI</td>\n",
       "      <td>48382</td>\n",
       "      <td>NaN</td>\n",
       "      <td>NaN</td>\n",
       "      <td>Referral</td>\n",
       "      <td>3/17/2014</td>\n",
       "      <td>Closed with explanation</td>\n",
       "      <td>Yes</td>\n",
       "      <td>No</td>\n",
       "      <td>759217</td>\n",
       "    </tr>\n",
       "    <tr>\n",
       "      <th>1</th>\n",
       "      <td>6/8/2014</td>\n",
       "      <td>Credit card</td>\n",
       "      <td>NaN</td>\n",
       "      <td>Bankruptcy</td>\n",
       "      <td>NaN</td>\n",
       "      <td>NaN</td>\n",
       "      <td>NaN</td>\n",
       "      <td>AMERICAN EXPRESS COMPANY</td>\n",
       "      <td>ID</td>\n",
       "      <td>83854</td>\n",
       "      <td>Older American</td>\n",
       "      <td>NaN</td>\n",
       "      <td>Web</td>\n",
       "      <td>6/10/2014</td>\n",
       "      <td>Closed with explanation</td>\n",
       "      <td>Yes</td>\n",
       "      <td>Yes</td>\n",
       "      <td>885638</td>\n",
       "    </tr>\n",
       "    <tr>\n",
       "      <th>2</th>\n",
       "      <td>9/13/2014</td>\n",
       "      <td>Debt collection</td>\n",
       "      <td>Credit card</td>\n",
       "      <td>Communication tactics</td>\n",
       "      <td>Frequent or repeated calls</td>\n",
       "      <td>NaN</td>\n",
       "      <td>NaN</td>\n",
       "      <td>CITIBANK, N.A.</td>\n",
       "      <td>VA</td>\n",
       "      <td>23233</td>\n",
       "      <td>NaN</td>\n",
       "      <td>NaN</td>\n",
       "      <td>Web</td>\n",
       "      <td>9/13/2014</td>\n",
       "      <td>Closed with explanation</td>\n",
       "      <td>Yes</td>\n",
       "      <td>Yes</td>\n",
       "      <td>1027760</td>\n",
       "    </tr>\n",
       "    <tr>\n",
       "      <th>3</th>\n",
       "      <td>11/13/2013</td>\n",
       "      <td>Mortgage</td>\n",
       "      <td>Conventional adjustable mortgage (ARM)</td>\n",
       "      <td>Loan servicing, payments, escrow account</td>\n",
       "      <td>NaN</td>\n",
       "      <td>NaN</td>\n",
       "      <td>NaN</td>\n",
       "      <td>U.S. BANCORP</td>\n",
       "      <td>MN</td>\n",
       "      <td>48322</td>\n",
       "      <td>NaN</td>\n",
       "      <td>NaN</td>\n",
       "      <td>Phone</td>\n",
       "      <td>11/20/2013</td>\n",
       "      <td>Closed with monetary relief</td>\n",
       "      <td>Yes</td>\n",
       "      <td>No</td>\n",
       "      <td>596562</td>\n",
       "    </tr>\n",
       "    <tr>\n",
       "      <th>4</th>\n",
       "      <td>6/16/2015</td>\n",
       "      <td>Debt collection</td>\n",
       "      <td>Medical</td>\n",
       "      <td>Improper contact or sharing of info</td>\n",
       "      <td>Contacted employer after asked not to</td>\n",
       "      <td>NaN</td>\n",
       "      <td>Company believes it acted appropriately as aut...</td>\n",
       "      <td>California Accounts Service</td>\n",
       "      <td>CA</td>\n",
       "      <td>92111</td>\n",
       "      <td>NaN</td>\n",
       "      <td>Consent not provided</td>\n",
       "      <td>Web</td>\n",
       "      <td>6/19/2015</td>\n",
       "      <td>Closed with explanation</td>\n",
       "      <td>Yes</td>\n",
       "      <td>No</td>\n",
       "      <td>1422680</td>\n",
       "    </tr>\n",
       "  </tbody>\n",
       "</table>\n",
       "</div>"
      ],
      "text/plain": [
       "  Date received          Product                             Sub-product  \\\n",
       "0     3/12/2014         Mortgage                          Other mortgage   \n",
       "1      6/8/2014      Credit card                                     NaN   \n",
       "2     9/13/2014  Debt collection                             Credit card   \n",
       "3    11/13/2013         Mortgage  Conventional adjustable mortgage (ARM)   \n",
       "4     6/16/2015  Debt collection                                 Medical   \n",
       "\n",
       "                                      Issue  \\\n",
       "0  Loan modification,collection,foreclosure   \n",
       "1                                Bankruptcy   \n",
       "2                     Communication tactics   \n",
       "3  Loan servicing, payments, escrow account   \n",
       "4       Improper contact or sharing of info   \n",
       "\n",
       "                               Sub-issue Consumer_complaint_narrative  \\\n",
       "0                                    NaN                          NaN   \n",
       "1                                    NaN                          NaN   \n",
       "2             Frequent or repeated calls                          NaN   \n",
       "3                                    NaN                          NaN   \n",
       "4  Contacted employer after asked not to                          NaN   \n",
       "\n",
       "                             Company public response  \\\n",
       "0                                                NaN   \n",
       "1                                                NaN   \n",
       "2                                                NaN   \n",
       "3                                                NaN   \n",
       "4  Company believes it acted appropriately as aut...   \n",
       "\n",
       "                       Company State ZIP code            Tags  \\\n",
       "0         M&T BANK CORPORATION    MI    48382             NaN   \n",
       "1     AMERICAN EXPRESS COMPANY    ID    83854  Older American   \n",
       "2               CITIBANK, N.A.    VA    23233             NaN   \n",
       "3                 U.S. BANCORP    MN    48322             NaN   \n",
       "4  California Accounts Service    CA    92111             NaN   \n",
       "\n",
       "  Consumer consent provided? Submitted via Date sent to company  \\\n",
       "0                        NaN      Referral            3/17/2014   \n",
       "1                        NaN           Web            6/10/2014   \n",
       "2                        NaN           Web            9/13/2014   \n",
       "3                        NaN         Phone           11/20/2013   \n",
       "4       Consent not provided           Web            6/19/2015   \n",
       "\n",
       "  Company response to consumer Timely response? Consumer disputed?  \\\n",
       "0      Closed with explanation              Yes                 No   \n",
       "1      Closed with explanation              Yes                Yes   \n",
       "2      Closed with explanation              Yes                Yes   \n",
       "3  Closed with monetary relief              Yes                 No   \n",
       "4      Closed with explanation              Yes                 No   \n",
       "\n",
       "   Complaint ID  \n",
       "0        759217  \n",
       "1        885638  \n",
       "2       1027760  \n",
       "3        596562  \n",
       "4       1422680  "
      ]
     },
     "execution_count": 51,
     "metadata": {},
     "output_type": "execute_result"
    }
   ],
   "source": [
    "#only for consumers sample -> it loads json file\n",
    "import pandas as pd\n",
    "#Doanload the source data from here https://catalog.data.gov/dataset/consumer-complaint-database\n",
    "df = pd.read_csv('F:\\\\WB\\\\nlpcode\\\\sampledocs\\\\Consumer_Complaints.csv')\n",
    "df.head()"
   ]
  },
  {
   "cell_type": "code",
   "execution_count": 28,
   "metadata": {},
   "outputs": [
    {
     "name": "stdout",
     "output_type": "stream",
     "text": [
      "['Date received' 'Product' 'Sub-product' 'Issue' 'Sub-issue'\n",
      " 'Consumer_complaint_narrative' 'Company public response' 'Company'\n",
      " 'State' 'ZIP code' 'Tags' 'Consumer consent provided?' 'Submitted via'\n",
      " 'Date sent to company' 'Company response to consumer' 'Timely response?'\n",
      " 'Consumer disputed?' 'Complaint ID']\n"
     ]
    }
   ],
   "source": [
    "#only for consumers sample -> it filters columns in raw data\n",
    "from io import StringIO\n",
    "print(df.columns.values)\n",
    "col = ['Product','Consumer_complaint_narrative']\n",
    "df = df[col]\n",
    "df = df[pd.notnull(df['Consumer_complaint_narrative'])]\n",
    "df.columns = ['Product', 'Consumer_complaint_narrative']\n"
   ]
  },
  {
   "cell_type": "code",
   "execution_count": 86,
   "metadata": {},
   "outputs": [
    {
     "data": {
      "text/html": [
       "<div>\n",
       "<style scoped>\n",
       "    .dataframe tbody tr th:only-of-type {\n",
       "        vertical-align: middle;\n",
       "    }\n",
       "\n",
       "    .dataframe tbody tr th {\n",
       "        vertical-align: top;\n",
       "    }\n",
       "\n",
       "    .dataframe thead th {\n",
       "        text-align: right;\n",
       "    }\n",
       "</style>\n",
       "<table border=\"1\" class=\"dataframe\">\n",
       "  <thead>\n",
       "    <tr style=\"text-align: right;\">\n",
       "      <th></th>\n",
       "      <th>Product</th>\n",
       "      <th>Consumer_complaint_narrative</th>\n",
       "      <th>category_id</th>\n",
       "    </tr>\n",
       "  </thead>\n",
       "  <tbody>\n",
       "    <tr>\n",
       "      <th>0</th>\n",
       "      <td>Program Guidelines</td>\n",
       "      <td>14.15.MARD, together with MoH \\n\\n(VIHEMA) and...</td>\n",
       "      <td>0</td>\n",
       "    </tr>\n",
       "    <tr>\n",
       "      <th>1</th>\n",
       "      <td>Arrangements</td>\n",
       "      <td>Based on the definitions of the New Rural Deve...</td>\n",
       "      <td>1</td>\n",
       "    </tr>\n",
       "    <tr>\n",
       "      <th>2</th>\n",
       "      <td>Other</td>\n",
       "      <td>Support for implementation and finalization of...</td>\n",
       "      <td>2</td>\n",
       "    </tr>\n",
       "    <tr>\n",
       "      <th>3</th>\n",
       "      <td>Key Mission</td>\n",
       "      <td>water schemes and communes); preparation of fe...</td>\n",
       "      <td>3</td>\n",
       "    </tr>\n",
       "    <tr>\n",
       "      <th>4</th>\n",
       "      <td>Key Mission</td>\n",
       "      <td>9.The Bank team has urged the \\n\\nimplementing...</td>\n",
       "      <td>3</td>\n",
       "    </tr>\n",
       "  </tbody>\n",
       "</table>\n",
       "</div>"
      ],
      "text/plain": [
       "              Product                       Consumer_complaint_narrative  \\\n",
       "0  Program Guidelines  14.15.MARD, together with MoH \\n\\n(VIHEMA) and...   \n",
       "1        Arrangements  Based on the definitions of the New Rural Deve...   \n",
       "2               Other  Support for implementation and finalization of...   \n",
       "3         Key Mission  water schemes and communes); preparation of fe...   \n",
       "4         Key Mission  9.The Bank team has urged the \\n\\nimplementing...   \n",
       "\n",
       "   category_id  \n",
       "0            0  \n",
       "1            1  \n",
       "2            2  \n",
       "3            3  \n",
       "4            3  "
      ]
     },
     "execution_count": 86,
     "metadata": {},
     "output_type": "execute_result"
    }
   ],
   "source": [
    "#It creates a third column of category_id based on the Product values\n",
    "df['category_id'] = df['Product'].factorize()[0]\n",
    "category_id_df = df[['Product', 'category_id']].drop_duplicates().sort_values('category_id')\n",
    "category_to_id = dict(category_id_df.values)\n",
    "id_to_category = dict(category_id_df[['category_id', 'Product']].values)\n",
    "df.head()"
   ]
  },
  {
   "cell_type": "code",
   "execution_count": 87,
   "metadata": {},
   "outputs": [
    {
     "data": {
      "image/png": "[encoded data removed]",
      "text/plain": [
       "<Figure size 576x432 with 1 Axes>"
      ]
     },
     "metadata": {},
     "output_type": "display_data"
    }
   ],
   "source": [
    "#It show the volume of data in each category\n",
    "import matplotlib.pyplot as plt\n",
    "fig = plt.figure(figsize=(8,6))\n",
    "df.groupby('Product').Consumer_complaint_narrative.count().plot.bar(ylim=0)\n",
    "plt.show()"
   ]
  },
  {
   "cell_type": "code",
   "execution_count": 88,
   "metadata": {},
   "outputs": [
    {
     "data": {
      "text/plain": [
       "(689, 3)"
      ]
     },
     "execution_count": 88,
     "metadata": {},
     "output_type": "execute_result"
    }
   ],
   "source": [
    "df.shape"
   ]
  },
  {
   "cell_type": "code",
   "execution_count": 76,
   "metadata": {},
   "outputs": [],
   "source": [
    "#only for consumers sample which over exceed the size \n",
    "df = df[:7902] #the length of data in resumes sample"
   ]
  },
  {
   "cell_type": "code",
   "execution_count": 89,
   "metadata": {},
   "outputs": [
    {
     "data": {
      "text/plain": [
       "(689, 4033)"
      ]
     },
     "execution_count": 89,
     "metadata": {},
     "output_type": "execute_result"
    }
   ],
   "source": [
    "#Usign tfidf to vectorize the table for using in the model\n",
    "from sklearn.feature_extraction.text import TfidfVectorizer\n",
    "tfidf = TfidfVectorizer(sublinear_tf=True, min_df=5, norm='l2', encoding='utf-8', ngram_range=(1, 2), stop_words='english')\n",
    "\n",
    "features = tfidf.fit_transform(df.Consumer_complaint_narrative).toarray()\n",
    "labels = df.category_id\n",
    "features.shape"
   ]
  },
  {
   "cell_type": "code",
   "execution_count": 90,
   "metadata": {},
   "outputs": [
    {
     "name": "stdout",
     "output_type": "stream",
     "text": [
      "# 'Arrangements':\n",
      "  . Most correlated unigrams:\n",
      ". rwss\n",
      ". ntp\n",
      "  . Most correlated bigrams:\n",
      ". finance investments\n",
      ". rwss ntp3\n",
      "# 'Capacity Building':\n",
      "  . Most correlated unigrams:\n",
      ". engineering\n",
      ". group\n",
      "  . Most correlated bigrams:\n",
      ". visit province\n",
      ". central implementation\n",
      "# 'Key Mission':\n",
      "  . Most correlated unigrams:\n",
      ". basic\n",
      ". table\n",
      "  . Most correlated bigrams:\n",
      ". details actions\n",
      ". actions program\n",
      "# 'Other':\n",
      "  . Most correlated unigrams:\n",
      ". nov\n",
      ". dec\n",
      "  . Most correlated bigrams:\n",
      ". sanitation water\n",
      ". nov 15\n",
      "# 'Program Guidelines':\n",
      "  . Most correlated unigrams:\n",
      ". collect\n",
      ". asked\n",
      "  . Most correlated bigrams:\n",
      ". plan templates\n",
      ". work provinces\n"
     ]
    }
   ],
   "source": [
    "#Show the most unigrams and bigrams repeated for each label (=category)\n",
    "from sklearn.feature_selection import chi2\n",
    "import numpy as np\n",
    "N = 2\n",
    "for Product, category_id in sorted(category_to_id.items()):\n",
    "  features_chi2 = chi2(features, labels == category_id)\n",
    "  indices = np.argsort(features_chi2[0])\n",
    "  feature_names = np.array(tfidf.get_feature_names())[indices]\n",
    "  unigrams = [v for v in feature_names if len(v.split(' ')) == 1]\n",
    "  bigrams = [v for v in feature_names if len(v.split(' ')) == 2]\n",
    "  print(\"# '{}':\".format(Product))\n",
    "  print(\"  . Most correlated unigrams:\\n. {}\".format('\\n. '.join(unigrams[-N:])))\n",
    "  print(\"  . Most correlated bigrams:\\n. {}\".format('\\n. '.join(bigrams[-N:])))"
   ]
  },
  {
   "cell_type": "code",
   "execution_count": 91,
   "metadata": {},
   "outputs": [],
   "source": [
    "#Split the data to train and sample set, then fit the model (Naive Bayesian)\n",
    "from sklearn.model_selection import train_test_split\n",
    "from sklearn.feature_extraction.text import CountVectorizer\n",
    "from sklearn.feature_extraction.text import TfidfTransformer\n",
    "from sklearn.naive_bayes import MultinomialNB\n",
    "X_train, X_test, y_train, y_test = train_test_split(df['Consumer_complaint_narrative'], df['Product'], random_state = 0)\n",
    "count_vect = CountVectorizer()\n",
    "X_train_counts = count_vect.fit_transform(X_train)\n",
    "tfidf_transformer = TfidfTransformer()\n",
    "X_train_tfidf = tfidf_transformer.fit_transform(X_train_counts)\n",
    "clf = MultinomialNB().fit(X_train_tfidf, y_train)"
   ]
  },
  {
   "cell_type": "code",
   "execution_count": 68,
   "metadata": {},
   "outputs": [
    {
     "name": "stdout",
     "output_type": "stream",
     "text": [
      "['Arrangements']\n"
     ]
    }
   ],
   "source": [
    "#only for consumers sample -> it shows the predicted value for test value\n",
    "print(clf.predict(count_vect.transform([\"This company refuses to provide me verification and validation of debt per my right under the FDCPA. I do not believe this debt is mine.\"])))"
   ]
  },
  {
   "cell_type": "code",
   "execution_count": 36,
   "metadata": {},
   "outputs": [
    {
     "name": "stdout",
     "output_type": "stream",
     "text": [
      "College Name MUMBAI UNIVERSITY \n",
      "Designation TERRITORY SALES MANAGER\n",
      "Companies worked at Walker footwear industries\n",
      "Graduation Year March 2010\n",
      "Companies worked at Syntel KPO Services\n",
      "Skills INTERPERSONAL SKILLS:\n",
      "➢ Can effectively work in a team environment and on India idea tasks.\n",
      "➢ Ability to deal with people diplomatically willingness to learn team facilities.\n",
      "➢ Go-getter.\n",
      "Degree MCOM in COMMERCE\n",
      "Email Address indeed.com/r/Mahesh-Shrigiri/27879d62e2f6f818\n",
      "Designation Territory Sales Manager\n",
      "Years of Experience March 2014 to May 2016\n",
      "Location Thane\n",
      "Years of Experience March 2014 to Present\n",
      "Graduation Year 2014 to 2016\n",
      "Designation Handling Exceptions & Mailings ( Backend Process)\n",
      "Degree H.S.C.\n",
      "Name Mahesh. Shrigiri\n"
     ]
    }
   ],
   "source": [
    "#only for resumes sample -> it shows the values for the last element as sample data for prediction\n",
    "sample_test  = data[len(data)-1]['annotation']\n",
    "test_list = []\n",
    "for i in range(len(sample_test)):\n",
    "    if sample_test[i]['label'] and sample_test[i]['points']:\n",
    "        test_list.append(sample_test[i]['label'][0] + \" \" + sample_test[i]['points'][0]['text'])\n",
    "\n",
    "test_list = list(set(test_list))\n",
    "for i in range(len(test_list)):\n",
    "        print(test_list[i])"
   ]
  },
  {
   "cell_type": "code",
   "execution_count": 37,
   "metadata": {},
   "outputs": [
    {
     "name": "stdout",
     "output_type": "stream",
     "text": [
      "['Debt collection']\n"
     ]
    }
   ],
   "source": [
    "#only for resumes sample -> it shows the predicted value for test value\n",
    "print(clf.predict(count_vect.transform([\"Walker footwear industries\"])))"
   ]
  },
  {
   "cell_type": "code",
   "execution_count": 80,
   "metadata": {},
   "outputs": [
    {
     "name": "stdout",
     "output_type": "stream",
     "text": [
      "['Key Mission', 'The table below provides more details on the actions for Program kick-off.Participating Provinces will enhance transparency by maintaining databases on (a) complaints \\n(relating to public consultation / corruption / fiduciary / procurement/ Program \\n\\nimplementation) and responses to those complaints; and (b) beneficiary feedback to \\n\\nimplementing agencies and responses to such feedback.“Hygienic sanitation” - for schools and commune health centers as defined by circulars \\nNo.']\n",
      "['Key Mission', 'The Bank team has urged the \\n\\nimplementing agencies and all 21 Provinces to kick off Program implementation activities immediately.The conclusion of the preparation work, planning and implementation start-up requires several \\n\\nactions to be taken at the national and provincial levels (see table 1 below).Criteria \\nCritical/Non-\\n\\ncritical \\n\\nMinimum \\n\\nCriteria \\n\\nRequired to \\n\\nMeet \\n\\nDefinition \\n\\n1 \\n\\nFacility is one of: \\n\\n1. dry single or double vault composting toilet \\nwith urine diversion \\n\\n2. dry pit latrine \\n3. water-based with pour flush and a water seal \\n\\nto a septic tank \\n\\n4. water-based with pour flush and a water seal \\nto a permeable pit \\n\\n5. water-based with pour flush and a water seal \\nto a biogas digester \\n\\nCritical All 9 Criteria \\n\\n2 \\nSlab or top of containment structure is present \\n\\nand in good condition \\n\\n3 \\n\\nAll holes and access openings of the containment \\n\\nstructure are sealed (either with a lid, plug, or a \\n\\nwater seal) \\n\\n4 \\n\\nNo leaks or sludge overflowing the \\n\\nsuperstructure / containment structure and no \\n\\nsoil near the septic tank saturated with septage \\n\\n5 \\n\\nIf school/HC’s main source of drinking water is \\n\\na borehole or dug well then the source must be \\n\\n10m or more away from the containment \\n\\nstructure and soak away if facility type is dry \\n\\ndouble vault/dry pit/pour flush to permeable pit \\n\\nlatrine (septic tank has no distance requirement) \\n\\n6 \\n\\nFor primary and secondary schools: sufficient \\n\\nsegregated facilities for male and female staff \\n\\nand students, i.e.The next mission is planned to take place in May/June, 2016.Rehabilitated FWSCs \\n\\nmust not have been functioning at the start of the program; the change will be from not \\n\\nfunctional to functional, rather than incremental increases in performance.“Separate facilities” are defined as individual, or blocks of, latrines which are fully private; \\nhaving as a minimum separate entrances into each facility and full height partitions \\n\\nbetween adjacent facilities.']\n",
      "['Other', '6.The DLIs are presented in annex 1.The Mission met with all Program implementing agencies, which \\n\\nincluded the Ministry of Agriculture and Rural Development (MARD), the Ministry of Health (MOH), \\n\\nState Audit Vietnam (SAV), the Ministry of Education and Training (MOET), Commission for Ethnic \\n\\nMinorities Affairs (CEMA), and the 21 participating2 Provinces.The mission is pleased to inform the implementing agencies and the Provinces that on November\\n\\n12, 2015, the Executive Board of Directors of the World Bank approved the IDA financing in the amount \\n\\nof SDR142.5 million (US$200 million equivalent) to the Government of Vietnam (GoV) for the Results-\\n\\nBased Scaling up Rural Sanitation and Water Supply Program.A World Bank task team1 undertook an Implementation Support mission for the Results-Based\\n\\nScaling up Rural Sanitation and Water Supply Program (hereafter called the ‘Program’ or RB-SupRSWS) \\n\\nfrom November 16 to 24, 2015.3 \\n\\n \\n\\nIndicators (DLIs).The Program will target public health \\n\\ninterventions with maximum impact and will therefore focus on water supply, hand washing and domestic \\n\\nsanitation as well as water, sanitation and hygiene facilities in institutions (schools, health centers).The \\n\\nProgram is divided into three key result areas on are as follows:  \\n\\n \\n\\na) To improve hygiene behaviors[1] and increase access to improved water and sanitation services \\nfor households as well as provide clean water, hygienic sanitation and hand washing facilities at \\n\\nschools and clinics;  \\n\\nb) To ensure water supply schemes are sustainable and all schools and clinics continue to have \\nfunctioning hygienic water and sanitation facilities; and  \\n\\nc) To build capacity at the provincial, commune and village levels to implement, manage and, most \\nimportantly, sustain hygiene, sanitation and the water supply.Introduction \\n\\n1.Since the RB-SupRSWS program uses the “Program for Results” (PforR) instrument, all \\ndisbursements will be made against pre-established indicators (results), called Disbursed-Linked \\n\\n                                                      \\n[1] Reduced open defecation, use of improved toilets; and hand washing with soap after using the latrine.103256\\n\\n\\n\\n2 \\n\\n \\n\\nThe Program is expected to become effective around April/May 2016 (there are no effectiveness \\n\\nconditions under this Program).4.The mission activities were concentrated around 3 regional workshops (North West, North East\\n\\nand Central Highland regions), which have been carried out in 3 selected provinces, respectively: Tuyen \\n\\nQuang, Hoa Binh and Dak Lak.2.19.Hence, improved sanitation facilities do not include, inter alia, flush/pour-flush \\n\\ntoilets to elsewhere (i.e., not to a sewer network, septic tank or pit latrine), bucket, hanging \\n\\ntoilet/latrine, public facility, a shared improved facility, or no facilities, bush or field (i.e.Verification \\n\\n5.DLI or Loan \\n\\nCovenant \\n\\nDue date Responsible \\n\\nparty \\n\\nCompletion Measurement  \\n\\nCovenant First report \\nsubmitted to \\n\\nthe Bank on \\n\\nDecember \\n\\n2015 \\n\\nFollowing \\n\\nreports will \\n\\nbe \\n\\nsubmitted \\nannually.6.Supervision will review \\n\\nimplementation quality.31.c. Increase awareness and capacities of provincial decision makers and implementing agencies to \\nprioritize, plan and monitor the sustainable sanitation and hygiene program.Providing additional air \\nvalves as per site requirements to make the pipeline sustainable.d) Providing proper distribution network with connections to individual households.open defecation).g) Replacing the filter media in the filters, valves and piping of filters etc.DLI or Loan \\n\\nCovenant \\n\\nDue date Responsible \\n\\nparty \\n\\nCompletion Measurement  \\n\\nCovenant  MARD Supervision will review \\n\\nimplementation quality.7.In addition to the above, the following typical bore well system rehabilitation measures \\nmay be required:  \\n\\na) Replacing collapsed bore well with new bore well, including the pump, drop pipes \\nand electrical requirements and the pipeline required to connect it to the original \\n\\npipeline.The TA timeline is July 2015 - December 2017, and its work plan is \\n\\nprovided in annex 3.21.QCVN 01:2011/BYT and No.For capacity building plans this includes each of the main sections identified.b) For broken pump in bore well, repairs to pump, rewinding of motor, overhauling the \\npump etc, or replacing pump if irreparable.Residual chlorine does not need to be tested where it is \\nnot relevant – for example in rainwater.Participating Provinces will enhance transparency by maintaining databases on (a) complaints \\n(relating to public consultation / corruption / fiduciary / procurement/ Program \\n\\nimplementation) and responses to those complaints; and (b) beneficiary feedback to \\n\\nimplementing agencies and responses to such feedback.“Functioning Water Supply Connections (FWSCs)” means water supply connections \\nwhich reliably provide clean water which is defined as providing household supply 24/7, \\n\\ntaking on site storage into account, allowing for a 10% failure rate on a monthly average.Based on a request from the government and on the experience of the Rural Water Supply and \\nSanitation PforR in the Red River Delta, communications activities that would assist the government to \\n\\nincrease the number of water supply connections in the Program provinces could be also considered in \\n\\nthis TA.For example \\n\\nin the BCC plans this includes each of the main communication channels and including \\n\\nand supply.A single building divided into male and female sections is \\n\\nacceptable as long as these privacy requirements are met.']\n",
      "['Capacity Building', 'The Bank team \\n\\nsuggested that the Central implementation agencies carry out a series of capacity building sessions in \\n\\neach province.The group would visit each province and provide specific support \\n\\nto: (i) selection of eligible water schemes and to provide guidance on water engineering designs, and \\n\\nwater scheme management models; (ii) support to the preparation and development of the BCC plans; \\n\\n(iii) support for Program Planning and development of Provincial Action Plans.7.d. Support knowledge sharing across participating provinces to deepen understanding of the \\nservice delivery approaches for rural sanitation and hygiene.Program Action Plan \\n\\nAnnex 3: Bank-Executed TA – Work plan \\n\\nAnnex 4: Implementation Schedule (Draft) \\n\\n \\n\\n \\n\\n  \\n\\n\\n\\n7 \\n\\n \\n\\nAnnex 1: DLIs and key definitions  \\n\\n \\n\\nDISBURSEMENT LINK INDICATORS (DLIs) \\n \\n\\n# \\nDLI Target for 2016-\\n\\n2020 \\n\\nTotal Disbursement \\n\\n(US$ million) \\n\\n1\\n B\\n\\neh\\na\\n\\nv\\nio\\n\\nr ch\\na\\n\\nn\\ng\\n\\ne a\\nn\\n\\nd\\n \\n\\nin\\nfra\\n\\nstru\\nctu\\n\\nre \\n\\n1.1 Number of Behavior Change Communication \\n\\nPlans implemented by Participating Provinces \\n21 BCC plans \\n\\nper year \\n20 \\n\\n1.2 Number of new Communes achieving \\n\\nCommune-Wide Sanitation in the Participating \\n\\nProvinces 3 \\n\\n680 47 \\n\\n1.3 Number of new or rehabilitated Functioning \\n\\nWater Supply Connections to households in the \\n\\nParticipating Provinces \\n \\n\\n255,000 \\n\\n \\n\\n73 \\n\\n2\\n S\\n\\nu\\nsta\\n\\nin\\na\\nb\\n\\nility\\n o\\n\\nf \\n\\nin\\nfra\\n\\nstru\\nctu\\n\\nre \\n\\n2.1 Number of households in the Participating \\n\\nProvinces with Sustainable Water Systems.29.']\n",
      "['Program Guidelines', 'In order to have updated information on the WSS status \\n\\nat each of the water schemes and in the communes that will be selected to be part of the Program, the \\n\\nBank team has asked VIHEMA to work together with the provinces to obtain the latest sanitation data \\n\\nand other data related to the requirement for Commune-Wide Sanitation and NCERWASS to work with \\n\\nthe provinces to collect the water supply data.An important activity to begin implementation is the selection of the water schemes and \\ncommunes that will become part of the Program.14.In addition, MARD was also asked to confirm \\n\\nthe continuation of existing guidelines and circulars (including inter-ministerial circulars), especially for \\n\\nfinancing mechanisms before project effectiveness.Program Action Plan \\n\\nAnnex 3: Bank-Executed TA – Work plan \\n\\nAnnex 4: Implementation Schedule (Draft) \\n\\n \\n\\n \\n\\n  \\n\\n\\n\\n7 \\n\\n \\n\\nAnnex 1: DLIs and key definitions  \\n\\n \\n\\nDISBURSEMENT LINK INDICATORS (DLIs) \\n \\n\\n# \\nDLI Target for 2016-\\n\\n2020 \\n\\nTotal Disbursement \\n\\n(US$ million) \\n\\n1\\n B\\n\\neh\\na\\n\\nv\\nio\\n\\nr ch\\na\\n\\nn\\ng\\n\\ne a\\nn\\n\\nd\\n \\n\\nin\\nfra\\n\\nstru\\nctu\\n\\nre \\n\\n1.1 Number of Behavior Change Communication \\n\\nPlans implemented by Participating Provinces \\n21 BCC plans \\n\\nper year \\n20 \\n\\n1.2 Number of new Communes achieving \\n\\nCommune-Wide Sanitation in the Participating \\n\\nProvinces 3 \\n\\n680 47 \\n\\n1.3 Number of new or rehabilitated Functioning \\n\\nWater Supply Connections to households in the \\n\\nParticipating Provinces \\n \\n\\n255,000 \\n\\n \\n\\n73 \\n\\n2\\n S\\n\\nu\\nsta\\n\\nin\\na\\nb\\n\\nility\\n o\\n\\nf \\n\\nin\\nfra\\n\\nstru\\nctu\\n\\nre \\n\\n2.1 Number of households in the Participating \\n\\nProvinces with Sustainable Water Systems.11.Improved latrines provide the health benefits of a hygienic latrine, but \\n\\ndo not meet all requirements in terms of super structure and so on.“Improved Latrine”: An improved latrine is defined as one that hygienically isolates \\nhuman excreta from human contact.open defecation).“Rehabilitation of water supply schemes” means rehabilitation of existing non functioning \\nschemes through strengthening measures, major or minor repairs, replacement of some \\n\\ncomponent parts of the system, replacement of outlived assets or replacement of assets \\n\\nwhich are technically advantageous and cost effective compared with repairs, and where \\n\\nrehabilitation results in the original designed system capacity revived for the long term and \\n\\nthe water supply service to its consumers reinstated and sustained.19.For capacity building plans this includes each of the main sections identified.']\n",
      "['Arrangements', '12.11.Based on the definitions of the New Rural Development NTP, the Provinces would have to \\nstructure their local implementation arrangements and multi-institutional coordination (for DARD, DoH, \\n\\nDoET, PCERWASS, CPM etc.)Clarifying this would allow greater flexibility for financial \\n\\nplanning by the provinces, thus providing more options to pre-finance the investments.Given that the exact \\n\\ndetails of this merger are still to be determined, the Bank team has suggested to MARD that the existing \\n\\nRWSS NTP3 mechanisms and institutional arrangements remain in place as far as possible at central and \\n\\nprovincial levels, in particular during the transition period.Based on the experience of the Red River Delta Program, the Bank team has emphasized to \\nMARD and to the Provinces, the need to have a good Program planning and to make counterpart funding \\n\\navailable to pre-finance investments.“Improved Latrine” means a latrine that hygienically isolates human excreta from human \\ncontact and meets the criteria set forth in the POM.b.20.The TA will support the following activities: \\n\\na.“One Stop Shops” are hardware suppliers, masons, retailers and small entrepreneurs within \\na district that supply sanitation and/or hand washing information and products.“Functioning Water Supply Connections (FWSCs)” means water supply connections \\nwhich reliably provide clean water which is defined as providing household supply 24/7, \\n\\ntaking on site storage into account, allowing for a 10% failure rate on a monthly average.For HCs: segregated facilities for male and \\n\\nfemale patients \\n\\n7 \\n\\nSchool/HC must be supplied by clean water for \\n\\ndrinking, as defined by Government Standards, \\n\\nbut including as a minimum the 14 parameters \\n\\nlisted under MoH’s QCVN 02:2009/BYT \\n\\nstandard but using the maximum limit values of \\n\\nQCVN 01:2009/BYT or by bottled drinking \\n\\nwater as defined by MoH’s QCVN 6-1:2010 \\n\\nBYT \\n\\n8 \\n\\nHand washing facilities must be present within \\n\\n(or immediately adjacent to) the sanitation \\n\\nfacility and supplied by clean water for hand \\n\\nwashing as defined by the Standards for \\n\\nHygienic water issued through the Ministry for \\n\\nAgriculture and Rural Development’s Decision \\n\\n\\n\\n11 \\n\\n \\n\\nNo.This action should specifically address the under-allocation \\n\\nof funds to sanitation and IEC activities  \\n\\nDLI or Loan \\n\\nCovenant \\n\\nDue date Responsible \\n\\nparty \\n\\nCompletion Measurement  \\n\\nCovenant (a) Annually (Jan \\n1st) \\n\\nMARD Financing Agreement.Improved latrines include flush/pour-flush into a \\n\\npiped sewer system, septic tank or pit latrine, VIP latrine, pit latrine with slab, composting \\n\\ntoilet.Hence, improved sanitation facilities do not include, inter alia, flush/pour-flush \\n\\ntoilets to elsewhere (i.e., not to a sewer network, septic tank or pit latrine), bucket, hanging \\n\\ntoilet/latrine, public facility, a shared improved facility, or no facilities, bush or field (i.e.10 \\n\\n \\n\\nDefinition for Hygienic Sanitation Facilities in Schools and Health Centers \\n\\nNo.']\n",
      "['Other', 'Actions Responsible  Deadline \\n\\n1.Finalize Program approval and Guidelines \\n\\nFinancing Agreement Signing and effectiveness processing SBV (in \\n\\ncoordination with \\n\\nMARD) \\n\\nDec 15 to \\n\\nApril 16 \\n\\nPrepare and distribute to Provinces the detailed Program \\n\\nImplementation Guidelines, in particular the updated POM \\n\\n(which should include the Program’s institutional \\n\\narrangements and key templates such as BCC and provincial \\n\\naction plans).Finalize Feasibility Studies indicating investments selection \\n\\nand corresponding budget allocation.Support for implementation and finalization of preparation works \\n\\nConsultants, WB staff, SO and VIHEMA will visit all 21 \\n\\nprovinces to provide support \\n\\nWB,SO, \\n\\nNCERWASS, \\n\\nVIHEMA \\n\\nJan/15-\\n\\nMarch/16 \\n\\nProvinces to nominate key staff from each department to work \\n\\nunder the Program \\n\\nProvinces  Dec/15“Sustainable Water Systems” means those which, two years after the start of operation \\n(defined as the month in which the first water is supplied, billed and paid for by customer \\n\\nhouseholds), satisfy the following characteristics5:.15 \\n\\n \\n\\nAnnex 2.at least two separate facilities.(b) State-Owned Enterprises dependent on Program ministries/provinces/departments \\nwill not be allowed to participate.2570 /QD-BNN-TCTL, dated October 22, \\n\\n2012.“Hygienic sanitation” - for schools and commune health centers as defined by circulars \\nNo.']\n",
      "['Key Mission', 'water schemes and communes); preparation of feasibility studies and basic designs; definition of budget \\n\\nneeds and timely budget allocation; and set up of financial management mechanisms for Program \\n\\nimplementation.c) Treatment system repairs including repair or replacement of electro mechanical \\nequipment, replacement of filter media, valves and piping repairs, repair or \\n\\nreplacement of under drainage system of filters, cleaning the sedimentation tank and \\n\\nremoving sludge.d) Repairs/upgrading of existing sedimentation tanks to improve capacity/performance \\n\\ne) Rebuilding of pipelines which are washed away in floods/natural disasters by \\nmethods which will prevent a recurrence \\n\\nf) Replacing pipelines in sections which are leaking profusely.']\n",
      "['Key Mission', 'The conclusion of the preparation work, planning and implementation start-up requires several \\n\\nactions to be taken at the national and provincial levels (see table 1 below).Following the recent Program approval, the finalization of preparation work (such as \\nfeasibility studies/similar reports at province-level) and the planning process for implementation \\n\\nwill be fully integrated into the national planning and budgeting cycles from Calendar year 2016 \\n\\nonwards.The guidelines will fully operationalize existing Vietnamese Legislation \\n\\nwith respect to EMs through a process of free, prior, and informed consultations.Specifically: \\n\\na) 100 percent of public kindergarten, primary and secondary schools have: clean water \\nfor drinking, as defined by Government Standards, but including as a minimum the \\n\\n14 parameters listed under MoH’s QCVN 02:2009/BYT standard but using the \\n\\nmaximum limit values of QCVN 01:2009/BYT or bottled drinking water as defined \\n\\nby MoH’s QCVN 6-1:2010 BYT; water for hand washing defined by the Standards \\n\\nfor Hygienic water as issued through the Ministry for Agriculture and Rural \\n\\nDevelopment’s Decision No.“Disclosure” means issued on the official website of the Government and also at the \\ncommune level.DLI or Loan \\n\\nCovenant \\n\\nDue date Responsible \\n\\nparty \\n\\nCompletion Measurement  \\n\\nCovenant Action 4: \\n \\n\\nMARD Financing Agreement.']\n",
      "['Other', 'The objectives of the mission were to: (i) review the provincial plans for Program implementation\\n\\nin FY 16 and to discuss the overall institutional arrangements for their implementation; (ii) Agree on the \\n\\nformat and contents of planning for sanitation Behaviour Change Communications (BCC), annual \\n\\nprogram reports, pre-financing, and updated final Program preparation for implementation; (iii) Advocate \\n\\namong provincial leaders on the importance of scaling up rural sanitation and BCC; (iv) Agree on an \\n\\naction plan for the next six months.Learning from global and Vietnam-specific experience, the Program will focus specifically on: (a) \\n\\nimproving the effectiveness of the existing efforts of the Government to scale up access to sanitation and \\n\\nimproved hygiene practices; and (b) improving the sustainability of the infrastructure put into place, for \\n\\nboth water supply and institutional sanitation facilities.In the Northern Mountains (NM) and Central \\n\\nHighland (CH) regions, the current coverage for rural improved water are respectively 88% (7% piped) \\n\\nand 79% (4% piped), and for improved rural sanitation are respectively 64% and 57% (according to MICS \\n\\n2014).3.The mission is pleased to inform the implementing agencies and the Provinces that on November\\n\\n12, 2015, the Executive Board of Directors of the World Bank approved the IDA financing in the amount \\n\\nof SDR142.5 million (US$200 million equivalent) to the Government of Vietnam (GoV) for the Results-\\n\\nBased Scaling up Rural Sanitation and Water Supply Program.The Mission met with all Program implementing agencies, which \\n\\nincluded the Ministry of Agriculture and Rural Development (MARD), the Ministry of Health (MOH), \\n\\nState Audit Vietnam (SAV), the Ministry of Education and Training (MOET), Commission for Ethnic \\n\\nMinorities Affairs (CEMA), and the 21 participating2 Provinces.The Bank team is now looking forward \\n\\nto the early signing of the legal agreement and related documents.A World Bank task team1 undertook an Implementation Support mission for the Results-Based\\n\\nScaling up Rural Sanitation and Water Supply Program (hereafter called the ‘Program’ or RB-SupRSWS) \\n\\nfrom November 16 to 24, 2015.The RB-SupRSWS Program is expected to run \\n\\nfrom 2016 to 2020 and will cover about 680 communes out of the 3,125 communes in 21 provinces.5739-VN - P152693) \\n\\nInitial Implementation Support Mission (November 16 to 24, 2015) \\n\\nAIDE MEMOIRE \\n\\nA.SOCIALIST REPUBLIC OF VIETNAM \\n\\nResults-based Scaling up Rural Sanitation and Water Supply Program \\n\\n(Cr.1 Led by Ms. Hoàng Thị Hoa (Task Team Leader) and Lilian Pena Pereira Weiss (Co-Task Team Leader), Nguyễn Diễm \\n\\nHằng (Water and Sanitation Specialist), Phyrum Kov (Water and Sanitation Specialist), Lê Tuyên Hồng Hải, Trịnh Quốc \\n\\nKhanh, Phan Mạnh Tuấn (consultants) and Ms. Linh Thi Thuy Tran (Team Assistant) \\n2 The provinces that will be covered under the Program are: Dak Lak, Dak Nong, Gia Lai, Kon Tum, Lam Dong, Bac \\n\\nCan, Bac Giang, Cao Bang, Dien Bien, Ha Giang, Hoa Binh, Lai Chau, Lang Son, Lao Cai, Phu Tho, Son La, Thai \\n\\nNguyen, Tuyen Quang, Yen Bai, Binh Thuan and Ninh Thuan.The DLIs are presented in annex 1.18.“Dedicated hand washing points” are defined as a fixed hand washing station in yard or \\nhouse; this could be a fixed tap, sink, self-made tippy tap (such as bottle/container fixed \\n\\nwith water), or dedicated container and dipper.Annual Plans and budgets will be approved at all levels with timely transfer of funds to the \\nProvince level as allocated.Improved latrines provide the health benefits of a hygienic latrine, but \\n\\ndo not meet all requirements in terms of super structure and so on.This action should specifically address the under-allocation \\n\\nof funds to sanitation and IEC activities  \\n\\nDLI or Loan \\n\\nCovenant \\n\\nDue date Responsible \\n\\nparty \\n\\nCompletion Measurement  \\n\\nCovenant (a) Annually (Jan \\n1st) \\n\\nMARD Financing Agreement.Improved latrines include flush/pour-flush into a \\n\\npiped sewer system, septic tank or pit latrine, VIP latrine, pit latrine with slab, composting \\n\\ntoilet.e) Providing a simple chlorination system / repairs to existing if suitable \\n\\n24.The TA will support the following activities: \\n\\na.9.Surface water systems with river intakes and Vertical Turbine pumps \\n\\n27.10 \\n\\n \\n\\nDefinition for Hygienic Sanitation Facilities in Schools and Health Centers \\n\\nNo.“Disclosure” means issued on the official website of the Government and also at the \\ncommune level.The information will be aggregated \\n\\nat the national level by MARD and will be reported to the Bank on an annual basis.The rehabilitation cost of a system shall not generally be more than 50% of cost of overall \\nnew system of the same capacity.105,000 25 \\n\\n2.2 Number of Communes in the Participating \\n\\nProvinces, which have achieved Commune-\\n\\nWide Sanitation two CY ago, where all public \\n\\nkindergarten, primary and secondary schools \\n\\nand health centers maintain Hygienic Status \\n\\n340 15 \\n\\n3\\n C\\n\\na\\np\\n\\na\\ncity\\n\\n fo\\nr \\n\\nim\\np\\n\\nlem\\nen\\n\\nta\\ntio\\n\\nn\\n \\n\\n3.1 Number of Annual Program Plans and Program \\n\\nReports disclosed \\n\\n \\n\\n \\n\\n43 plans/ reports \\n\\nper year \\n5 \\n\\n3.2 Number of approved Annual Capacity \\n\\nDevelopment Plans implemented \\n\\n \\n\\n21 plans \\n\\nimplemented per \\n\\nyear \\n15 \\n\\n \\n\\n \\n\\nDEFINITIONS  \\n\\n \\n\\n1.This will also \\n\\ninclude the development of the Behavior Change Communications (BCC) campaign that will \\n\\nbe used under the Program and adapted for the different Program regions.Soap substitute can include \\n\\ndetergent or other cleansing material.2570 /QD-BNN-TCTL, dated October 22, 2012; and hygienic sanitation \\n\\nfacilities according to MoH standards (Circular QCVN 01: 2011/BYT)4; soap \\n\\npresent at hand washing places and a reliable supply for replacement soap organized.“New and rehabilitated FWSCs” are defined as connections that have been made or \\nrehabilitated since the start of the program period from water supply schemes completed \\n\\nafter the start of the Program period and after the baseline is verified.The next mission is planned to take place in May/June, 2016.Supervision and audits to \\n\\nestablish actual \\n\\nperformance.Repairs to existing storage \\n\\nc) Providing appropriately sized tank(s) to balance the water quantity required in dry \\nmonths.c. Increase awareness and capacities of provincial decision makers and implementing agencies to \\nprioritize, plan and monitor the sustainable sanitation and hygiene program.20.4.QCVN 01:2011/BYT and No.']\n"
     ]
    }
   ],
   "source": [
    "#only for Aide Memoire sample -> it shows the last ten elements as test data for prediction\n",
    "for i in range(len(gen_lst)-10,len(gen_lst)):\n",
    "    print(gen_lst[i])"
   ]
  },
  {
   "cell_type": "code",
   "execution_count": 82,
   "metadata": {
    "scrolled": false
   },
   "outputs": [
    {
     "name": "stdout",
     "output_type": "stream",
     "text": [
      "['Key Mission']\n"
     ]
    }
   ],
   "source": [
    "#only for Aide Memoire sample -> it shows the predicted value for test value\n",
    "print(clf.predict(count_vect.transform([\"The table below provides more details on the actions for Program kick-off.Participating Provinces will enhance transparency by maintaining databases on (a) complaints \\n(relating to public consultation / corruption / fiduciary / procurement/ Program \\n\\nimplementation) and responses to those complaints; and (b) beneficiary feedback to \\n\\nimplementing agencies and responses to such feedback.“Hygienic sanitation” - for schools and commune health centers as defined by circulars\"])))"
   ]
  },
  {
   "cell_type": "code",
   "execution_count": 92,
   "metadata": {},
   "outputs": [
    {
     "data": {
      "image/png": "[encoded data removed]",
      "text/plain": [
       "<Figure size 432x288 with 1 Axes>"
      ]
     },
     "metadata": {},
     "output_type": "display_data"
    }
   ],
   "source": [
    "#Compare the result of four ML models  (Naive Bayesian, Logis Regression, SVC, and Random Forest)\n",
    "from sklearn.linear_model import LogisticRegression\n",
    "from sklearn.ensemble import RandomForestClassifier\n",
    "from sklearn.svm import LinearSVC\n",
    "from sklearn.model_selection import cross_val_score\n",
    "models = [\n",
    "    RandomForestClassifier(n_estimators=200, max_depth=3, random_state=0),\n",
    "    LinearSVC(),\n",
    "    MultinomialNB(),\n",
    "    LogisticRegression(random_state=0),\n",
    "]\n",
    "CV = 5\n",
    "cv_df = pd.DataFrame(index=range(CV * len(models)))\n",
    "entries = []\n",
    "for model in models:\n",
    "  model_name = model.__class__.__name__\n",
    "  accuracies = cross_val_score(model, features, labels, scoring='accuracy', cv=CV)\n",
    "  for fold_idx, accuracy in enumerate(accuracies):\n",
    "    entries.append((model_name, fold_idx, accuracy))\n",
    "cv_df = pd.DataFrame(entries, columns=['model_name', 'fold_idx', 'accuracy'])\n",
    "import seaborn as sns\n",
    "sns.boxplot(x='model_name', y='accuracy', data=cv_df)\n",
    "sns.stripplot(x='model_name', y='accuracy', data=cv_df, \n",
    "              size=8, jitter=True, edgecolor=\"gray\", linewidth=2)\n",
    "plt.show()"
   ]
  }
 ],
 "metadata": {
  "kernelspec": {
   "display_name": "Python 3",
   "language": "python",
   "name": "python3"
  },
  "language_info": {
   "codemirror_mode": {
    "name": "ipython",
    "version": 3
   },
   "file_extension": ".py",
   "mimetype": "text/x-python",
   "name": "python",
   "nbconvert_exporter": "python",
   "pygments_lexer": "ipython3",
   "version": "3.6.4"
  }
 },
 "nbformat": 4,
 "nbformat_minor": 2
}

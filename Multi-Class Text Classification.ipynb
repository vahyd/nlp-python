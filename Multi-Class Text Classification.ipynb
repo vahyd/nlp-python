{
 "cells": [
  {
   "cell_type": "code",
   "execution_count": 151,
   "metadata": {},
   "outputs": [],
   "source": [
    "#The cose is based on this toturial: https://towardsdatascience.com/multi-class-text-classification-with-scikit-learn-12f1e60e0a9f"
   ]
  },
  {
   "cell_type": "code",
   "execution_count": null,
   "metadata": {},
   "outputs": [],
   "source": [
    "#only for resumes sample -> it loads the json file\n",
    "import json \n",
    "import pandas as pd\n",
    "#Downlaod the source data from here https://dataturks.com/blog/named-entity-recognition-in-resumes.php\n",
    "json_data = \"F:\\\\WB\\\\nlpcode\\\\sampledocs\\\\Resumes.json\"\n"
   ]
  },
  {
   "cell_type": "code",
   "execution_count": 13,
   "metadata": {},
   "outputs": [
    {
     "name": "stdout",
     "output_type": "stream",
     "text": [
      "7902\n"
     ]
    },
    {
     "data": {
      "text/html": [
       "<div>\n",
       "<style scoped>\n",
       "    .dataframe tbody tr th:only-of-type {\n",
       "        vertical-align: middle;\n",
       "    }\n",
       "\n",
       "    .dataframe tbody tr th {\n",
       "        vertical-align: top;\n",
       "    }\n",
       "\n",
       "    .dataframe thead th {\n",
       "        text-align: right;\n",
       "    }\n",
       "</style>\n",
       "<table border=\"1\" class=\"dataframe\">\n",
       "  <thead>\n",
       "    <tr style=\"text-align: right;\">\n",
       "      <th></th>\n",
       "      <th>Product</th>\n",
       "      <th>Consumer_complaint_narrative</th>\n",
       "    </tr>\n",
       "  </thead>\n",
       "  <tbody>\n",
       "    <tr>\n",
       "      <th>0</th>\n",
       "      <td>Skills</td>\n",
       "      <td>\\n• Programming language: C, C++, Java\\n• Orac...</td>\n",
       "    </tr>\n",
       "    <tr>\n",
       "      <th>1</th>\n",
       "      <td>Skills</td>\n",
       "      <td>C (Less than 1 year), Database (Less than 1 ye...</td>\n",
       "    </tr>\n",
       "    <tr>\n",
       "      <th>2</th>\n",
       "      <td>College Name</td>\n",
       "      <td>Kendriya Vidyalaya</td>\n",
       "    </tr>\n",
       "    <tr>\n",
       "      <th>3</th>\n",
       "      <td>College Name</td>\n",
       "      <td>Woodbine modern school</td>\n",
       "    </tr>\n",
       "    <tr>\n",
       "      <th>4</th>\n",
       "      <td>Graduation Year</td>\n",
       "      <td>2017\\n</td>\n",
       "    </tr>\n",
       "  </tbody>\n",
       "</table>\n",
       "</div>"
      ],
      "text/plain": [
       "           Product                       Consumer_complaint_narrative\n",
       "0           Skills  \\n• Programming language: C, C++, Java\\n• Orac...\n",
       "1           Skills  C (Less than 1 year), Database (Less than 1 ye...\n",
       "2     College Name                                 Kendriya Vidyalaya\n",
       "3     College Name                             Woodbine modern school\n",
       "4  Graduation Year                                             2017\\n"
      ]
     },
     "execution_count": 13,
     "metadata": {},
     "output_type": "execute_result"
    }
   ],
   "source": [
    "#only for resumes sample -> it converts data to consumers sample format\n",
    "data = []\n",
    "with open(json_data, encoding=\"utf8\") as f:\n",
    "    for line in f:\n",
    "        data.append(json.loads(line))\n",
    "\n",
    "my_list = []\n",
    "for k in range(len(data)-1): \n",
    "    data_item = data[k]['annotation']\n",
    "    for i in range(len(data_item)):\n",
    "        if  data_item[i]['label'] and  data_item[i]['points']:\n",
    "            my_list.append([data_item[i]['label'][0],data_item[i]['points'][0]['text']])\n",
    "\n",
    "df = pd.DataFrame(my_list, columns = ['Product','Consumer_complaint_narrative'])\n",
    "\n",
    "print(len(my_list))\n",
    "\n",
    "df.head()"
   ]
  },
  {
   "cell_type": "code",
   "execution_count": 144,
   "metadata": {},
   "outputs": [],
   "source": [
    "#only for Aide Memoire sample -> it loads json file\n",
    "import json \n",
    "#Download the source data from here: https://dataturks.com/projects/jpark23/Audit%20report/overview?type=all\n",
    "json_data = \"F:\\\\WB\\\\nlpcode\\\\sampledocs\\\\Audit\\\\Audit.json\"\n",
    "with open(json_data, encoding=\"utf8\") as data_file:\n",
    "        data_item = json.load(data_file)\n",
    "data = data_item['annotation']\n",
    "\n",
    "del data[-4]#drop duplicates\n",
    "del data[-3]#drop duplicates"
   ]
  },
  {
   "cell_type": "code",
   "execution_count": 145,
   "metadata": {},
   "outputs": [
    {
     "data": {
      "text/html": [
       "<div>\n",
       "<style scoped>\n",
       "    .dataframe tbody tr th:only-of-type {\n",
       "        vertical-align: middle;\n",
       "    }\n",
       "\n",
       "    .dataframe tbody tr th {\n",
       "        vertical-align: top;\n",
       "    }\n",
       "\n",
       "    .dataframe thead th {\n",
       "        text-align: right;\n",
       "    }\n",
       "</style>\n",
       "<table border=\"1\" class=\"dataframe\">\n",
       "  <thead>\n",
       "    <tr style=\"text-align: right;\">\n",
       "      <th></th>\n",
       "      <th>Product</th>\n",
       "      <th>Consumer_complaint_narrative</th>\n",
       "    </tr>\n",
       "  </thead>\n",
       "  <tbody>\n",
       "    <tr>\n",
       "      <th>0</th>\n",
       "      <td>Program Guidelines</td>\n",
       "      <td>) WSS agencies schemes . effectiveness 14 . as...</td>\n",
       "    </tr>\n",
       "    <tr>\n",
       "      <th>1</th>\n",
       "      <td>Arrangements</td>\n",
       "      <td>funding implementation preserved Development D...</td>\n",
       "    </tr>\n",
       "    <tr>\n",
       "      <th>2</th>\n",
       "      <td>Key Mission</td>\n",
       "      <td>provincial several start-up : particular ( 21 ...</td>\n",
       "    </tr>\n",
       "    <tr>\n",
       "      <th>3</th>\n",
       "      <td>Other</td>\n",
       "      <td>Bien Audit contained provinces , Quang ” Novem...</td>\n",
       "    </tr>\n",
       "    <tr>\n",
       "      <th>4</th>\n",
       "      <td>Capacity Building</td>\n",
       "      <td>including allocations Implementation Central m...</td>\n",
       "    </tr>\n",
       "  </tbody>\n",
       "</table>\n",
       "</div>"
      ],
      "text/plain": [
       "              Product                       Consumer_complaint_narrative\n",
       "0  Program Guidelines  ) WSS agencies schemes . effectiveness 14 . as...\n",
       "1        Arrangements  funding implementation preserved Development D...\n",
       "2         Key Mission  provincial several start-up : particular ( 21 ...\n",
       "3               Other  Bien Audit contained provinces , Quang ” Novem...\n",
       "4   Capacity Building  including allocations Implementation Central m..."
      ]
     },
     "execution_count": 145,
     "metadata": {},
     "output_type": "execute_result"
    }
   ],
   "source": [
    "#only for Aide Memoire sample -> it converts data to consumers sample format (more detailed explanation in gen_list.ipynb)\n",
    "import pandas as pd\n",
    "import random\n",
    "import nltk\n",
    "import math\n",
    "from nltk import tokenize\n",
    "from nltk.corpus import stopwords\n",
    "\n",
    "col_list = [item['label'][0] for item in data]\n",
    "col_list = col_list[1:]\n",
    "\n",
    "\n",
    "stop_words = set (stopwords.words( 'english' ))\n",
    "\n",
    "all_words = []\n",
    "for i in range(len(data)):\n",
    "    all_words += nltk.word_tokenize(data[i]['points'][0]['text'])\n",
    "\n",
    "filtered_all_words = [w for w in all_words if not w in stop_words]\n",
    "\n",
    "gen_lst = []\n",
    "for k in range(100):\n",
    "    for i in range(1,len(data)):\n",
    "        words = nltk.word_tokenize(data[i]['points'][0]['text'])\n",
    "        filtered_words = [w for w in words if not w in stop_words]\n",
    "        filtered_others = [w for w in filtered_all_words if not w in filtered_words]\n",
    "        \n",
    "        rnd = random.sample(range(len(filtered_words)), math.ceil(len(filtered_words)/10))\n",
    "        org_words = [filtered_words[i] for i in rnd]\n",
    "        \n",
    "        rnd = random.sample(range(len(filtered_others)), math.ceil(9 * len(filtered_words)/10))\n",
    "        chn_words = [filtered_others[i] for i in rnd]\n",
    "        \n",
    "        new_words = org_words + chn_words\n",
    "        gen_lst.append([col_list[i-1],' '.join(new_words)])\n",
    "        \n",
    "df = pd.DataFrame(gen_lst[1:len(gen_lst)-5], columns = ['Product','Consumer_complaint_narrative']) #left the last five items as test for prediction\n",
    "\n",
    "df.head()"
   ]
  },
  {
   "cell_type": "code",
   "execution_count": null,
   "metadata": {},
   "outputs": [],
   "source": []
  },
  {
   "cell_type": "code",
   "execution_count": 51,
   "metadata": {},
   "outputs": [
    {
     "data": {
      "text/html": [
       "<div>\n",
       "<style scoped>\n",
       "    .dataframe tbody tr th:only-of-type {\n",
       "        vertical-align: middle;\n",
       "    }\n",
       "\n",
       "    .dataframe tbody tr th {\n",
       "        vertical-align: top;\n",
       "    }\n",
       "\n",
       "    .dataframe thead th {\n",
       "        text-align: right;\n",
       "    }\n",
       "</style>\n",
       "<table border=\"1\" class=\"dataframe\">\n",
       "  <thead>\n",
       "    <tr style=\"text-align: right;\">\n",
       "      <th></th>\n",
       "      <th>Date received</th>\n",
       "      <th>Product</th>\n",
       "      <th>Sub-product</th>\n",
       "      <th>Issue</th>\n",
       "      <th>Sub-issue</th>\n",
       "      <th>Consumer_complaint_narrative</th>\n",
       "      <th>Company public response</th>\n",
       "      <th>Company</th>\n",
       "      <th>State</th>\n",
       "      <th>ZIP code</th>\n",
       "      <th>Tags</th>\n",
       "      <th>Consumer consent provided?</th>\n",
       "      <th>Submitted via</th>\n",
       "      <th>Date sent to company</th>\n",
       "      <th>Company response to consumer</th>\n",
       "      <th>Timely response?</th>\n",
       "      <th>Consumer disputed?</th>\n",
       "      <th>Complaint ID</th>\n",
       "    </tr>\n",
       "  </thead>\n",
       "  <tbody>\n",
       "    <tr>\n",
       "      <th>0</th>\n",
       "      <td>3/12/2014</td>\n",
       "      <td>Mortgage</td>\n",
       "      <td>Other mortgage</td>\n",
       "      <td>Loan modification,collection,foreclosure</td>\n",
       "      <td>NaN</td>\n",
       "      <td>NaN</td>\n",
       "      <td>NaN</td>\n",
       "      <td>M&amp;T BANK CORPORATION</td>\n",
       "      <td>MI</td>\n",
       "      <td>48382</td>\n",
       "      <td>NaN</td>\n",
       "      <td>NaN</td>\n",
       "      <td>Referral</td>\n",
       "      <td>3/17/2014</td>\n",
       "      <td>Closed with explanation</td>\n",
       "      <td>Yes</td>\n",
       "      <td>No</td>\n",
       "      <td>759217</td>\n",
       "    </tr>\n",
       "    <tr>\n",
       "      <th>1</th>\n",
       "      <td>6/8/2014</td>\n",
       "      <td>Credit card</td>\n",
       "      <td>NaN</td>\n",
       "      <td>Bankruptcy</td>\n",
       "      <td>NaN</td>\n",
       "      <td>NaN</td>\n",
       "      <td>NaN</td>\n",
       "      <td>AMERICAN EXPRESS COMPANY</td>\n",
       "      <td>ID</td>\n",
       "      <td>83854</td>\n",
       "      <td>Older American</td>\n",
       "      <td>NaN</td>\n",
       "      <td>Web</td>\n",
       "      <td>6/10/2014</td>\n",
       "      <td>Closed with explanation</td>\n",
       "      <td>Yes</td>\n",
       "      <td>Yes</td>\n",
       "      <td>885638</td>\n",
       "    </tr>\n",
       "    <tr>\n",
       "      <th>2</th>\n",
       "      <td>9/13/2014</td>\n",
       "      <td>Debt collection</td>\n",
       "      <td>Credit card</td>\n",
       "      <td>Communication tactics</td>\n",
       "      <td>Frequent or repeated calls</td>\n",
       "      <td>NaN</td>\n",
       "      <td>NaN</td>\n",
       "      <td>CITIBANK, N.A.</td>\n",
       "      <td>VA</td>\n",
       "      <td>23233</td>\n",
       "      <td>NaN</td>\n",
       "      <td>NaN</td>\n",
       "      <td>Web</td>\n",
       "      <td>9/13/2014</td>\n",
       "      <td>Closed with explanation</td>\n",
       "      <td>Yes</td>\n",
       "      <td>Yes</td>\n",
       "      <td>1027760</td>\n",
       "    </tr>\n",
       "    <tr>\n",
       "      <th>3</th>\n",
       "      <td>11/13/2013</td>\n",
       "      <td>Mortgage</td>\n",
       "      <td>Conventional adjustable mortgage (ARM)</td>\n",
       "      <td>Loan servicing, payments, escrow account</td>\n",
       "      <td>NaN</td>\n",
       "      <td>NaN</td>\n",
       "      <td>NaN</td>\n",
       "      <td>U.S. BANCORP</td>\n",
       "      <td>MN</td>\n",
       "      <td>48322</td>\n",
       "      <td>NaN</td>\n",
       "      <td>NaN</td>\n",
       "      <td>Phone</td>\n",
       "      <td>11/20/2013</td>\n",
       "      <td>Closed with monetary relief</td>\n",
       "      <td>Yes</td>\n",
       "      <td>No</td>\n",
       "      <td>596562</td>\n",
       "    </tr>\n",
       "    <tr>\n",
       "      <th>4</th>\n",
       "      <td>6/16/2015</td>\n",
       "      <td>Debt collection</td>\n",
       "      <td>Medical</td>\n",
       "      <td>Improper contact or sharing of info</td>\n",
       "      <td>Contacted employer after asked not to</td>\n",
       "      <td>NaN</td>\n",
       "      <td>Company believes it acted appropriately as aut...</td>\n",
       "      <td>California Accounts Service</td>\n",
       "      <td>CA</td>\n",
       "      <td>92111</td>\n",
       "      <td>NaN</td>\n",
       "      <td>Consent not provided</td>\n",
       "      <td>Web</td>\n",
       "      <td>6/19/2015</td>\n",
       "      <td>Closed with explanation</td>\n",
       "      <td>Yes</td>\n",
       "      <td>No</td>\n",
       "      <td>1422680</td>\n",
       "    </tr>\n",
       "  </tbody>\n",
       "</table>\n",
       "</div>"
      ],
      "text/plain": [
       "  Date received          Product                             Sub-product  \\\n",
       "0     3/12/2014         Mortgage                          Other mortgage   \n",
       "1      6/8/2014      Credit card                                     NaN   \n",
       "2     9/13/2014  Debt collection                             Credit card   \n",
       "3    11/13/2013         Mortgage  Conventional adjustable mortgage (ARM)   \n",
       "4     6/16/2015  Debt collection                                 Medical   \n",
       "\n",
       "                                      Issue  \\\n",
       "0  Loan modification,collection,foreclosure   \n",
       "1                                Bankruptcy   \n",
       "2                     Communication tactics   \n",
       "3  Loan servicing, payments, escrow account   \n",
       "4       Improper contact or sharing of info   \n",
       "\n",
       "                               Sub-issue Consumer_complaint_narrative  \\\n",
       "0                                    NaN                          NaN   \n",
       "1                                    NaN                          NaN   \n",
       "2             Frequent or repeated calls                          NaN   \n",
       "3                                    NaN                          NaN   \n",
       "4  Contacted employer after asked not to                          NaN   \n",
       "\n",
       "                             Company public response  \\\n",
       "0                                                NaN   \n",
       "1                                                NaN   \n",
       "2                                                NaN   \n",
       "3                                                NaN   \n",
       "4  Company believes it acted appropriately as aut...   \n",
       "\n",
       "                       Company State ZIP code            Tags  \\\n",
       "0         M&T BANK CORPORATION    MI    48382             NaN   \n",
       "1     AMERICAN EXPRESS COMPANY    ID    83854  Older American   \n",
       "2               CITIBANK, N.A.    VA    23233             NaN   \n",
       "3                 U.S. BANCORP    MN    48322             NaN   \n",
       "4  California Accounts Service    CA    92111             NaN   \n",
       "\n",
       "  Consumer consent provided? Submitted via Date sent to company  \\\n",
       "0                        NaN      Referral            3/17/2014   \n",
       "1                        NaN           Web            6/10/2014   \n",
       "2                        NaN           Web            9/13/2014   \n",
       "3                        NaN         Phone           11/20/2013   \n",
       "4       Consent not provided           Web            6/19/2015   \n",
       "\n",
       "  Company response to consumer Timely response? Consumer disputed?  \\\n",
       "0      Closed with explanation              Yes                 No   \n",
       "1      Closed with explanation              Yes                Yes   \n",
       "2      Closed with explanation              Yes                Yes   \n",
       "3  Closed with monetary relief              Yes                 No   \n",
       "4      Closed with explanation              Yes                 No   \n",
       "\n",
       "   Complaint ID  \n",
       "0        759217  \n",
       "1        885638  \n",
       "2       1027760  \n",
       "3        596562  \n",
       "4       1422680  "
      ]
     },
     "execution_count": 51,
     "metadata": {},
     "output_type": "execute_result"
    }
   ],
   "source": [
    "#only for consumers sample -> it loads json file\n",
    "import pandas as pd\n",
    "#Doanload the source data from here https://catalog.data.gov/dataset/consumer-complaint-database\n",
    "df = pd.read_csv('F:\\\\WB\\\\nlpcode\\\\sampledocs\\\\Consumer_Complaints.csv')\n",
    "df.head()"
   ]
  },
  {
   "cell_type": "code",
   "execution_count": 28,
   "metadata": {},
   "outputs": [
    {
     "name": "stdout",
     "output_type": "stream",
     "text": [
      "['Date received' 'Product' 'Sub-product' 'Issue' 'Sub-issue'\n",
      " 'Consumer_complaint_narrative' 'Company public response' 'Company'\n",
      " 'State' 'ZIP code' 'Tags' 'Consumer consent provided?' 'Submitted via'\n",
      " 'Date sent to company' 'Company response to consumer' 'Timely response?'\n",
      " 'Consumer disputed?' 'Complaint ID']\n"
     ]
    }
   ],
   "source": [
    "#only for consumers sample -> it filters columns in raw data\n",
    "from io import StringIO\n",
    "print(df.columns.values)\n",
    "col = ['Product','Consumer_complaint_narrative']\n",
    "df = df[col]\n",
    "df = df[pd.notnull(df['Consumer_complaint_narrative'])]\n",
    "df.columns = ['Product', 'Consumer_complaint_narrative']\n"
   ]
  },
  {
   "cell_type": "code",
   "execution_count": 146,
   "metadata": {},
   "outputs": [
    {
     "data": {
      "text/html": [
       "<div>\n",
       "<style scoped>\n",
       "    .dataframe tbody tr th:only-of-type {\n",
       "        vertical-align: middle;\n",
       "    }\n",
       "\n",
       "    .dataframe tbody tr th {\n",
       "        vertical-align: top;\n",
       "    }\n",
       "\n",
       "    .dataframe thead th {\n",
       "        text-align: right;\n",
       "    }\n",
       "</style>\n",
       "<table border=\"1\" class=\"dataframe\">\n",
       "  <thead>\n",
       "    <tr style=\"text-align: right;\">\n",
       "      <th></th>\n",
       "      <th>Product</th>\n",
       "      <th>Consumer_complaint_narrative</th>\n",
       "      <th>category_id</th>\n",
       "    </tr>\n",
       "  </thead>\n",
       "  <tbody>\n",
       "    <tr>\n",
       "      <th>0</th>\n",
       "      <td>Program Guidelines</td>\n",
       "      <td>) WSS agencies schemes . effectiveness 14 . as...</td>\n",
       "      <td>0</td>\n",
       "    </tr>\n",
       "    <tr>\n",
       "      <th>1</th>\n",
       "      <td>Arrangements</td>\n",
       "      <td>funding implementation preserved Development D...</td>\n",
       "      <td>1</td>\n",
       "    </tr>\n",
       "    <tr>\n",
       "      <th>2</th>\n",
       "      <td>Key Mission</td>\n",
       "      <td>provincial several start-up : particular ( 21 ...</td>\n",
       "      <td>2</td>\n",
       "    </tr>\n",
       "    <tr>\n",
       "      <th>3</th>\n",
       "      <td>Other</td>\n",
       "      <td>Bien Audit contained provinces , Quang ” Novem...</td>\n",
       "      <td>3</td>\n",
       "    </tr>\n",
       "    <tr>\n",
       "      <th>4</th>\n",
       "      <td>Capacity Building</td>\n",
       "      <td>including allocations Implementation Central m...</td>\n",
       "      <td>4</td>\n",
       "    </tr>\n",
       "  </tbody>\n",
       "</table>\n",
       "</div>"
      ],
      "text/plain": [
       "              Product                       Consumer_complaint_narrative  \\\n",
       "0  Program Guidelines  ) WSS agencies schemes . effectiveness 14 . as...   \n",
       "1        Arrangements  funding implementation preserved Development D...   \n",
       "2         Key Mission  provincial several start-up : particular ( 21 ...   \n",
       "3               Other  Bien Audit contained provinces , Quang ” Novem...   \n",
       "4   Capacity Building  including allocations Implementation Central m...   \n",
       "\n",
       "   category_id  \n",
       "0            0  \n",
       "1            1  \n",
       "2            2  \n",
       "3            3  \n",
       "4            4  "
      ]
     },
     "execution_count": 146,
     "metadata": {},
     "output_type": "execute_result"
    }
   ],
   "source": [
    "#It creates a third column of category_id based on the Product values\n",
    "df['category_id'] = df['Product'].factorize()[0]\n",
    "category_id_df = df[['Product', 'category_id']].drop_duplicates().sort_values('category_id')\n",
    "category_to_id = dict(category_id_df.values)\n",
    "id_to_category = dict(category_id_df[['category_id', 'Product']].values)\n",
    "df.head()"
   ]
  },
  {
   "cell_type": "code",
   "execution_count": 131,
   "metadata": {},
   "outputs": [
    {
     "data": {
      "image/png": "[encoded data removed]",
      "text/plain": [
       "<Figure size 576x432 with 1 Axes>"
      ]
     },
     "metadata": {},
     "output_type": "display_data"
    }
   ],
   "source": [
    "#It show the volume of data in each category\n",
    "import matplotlib.pyplot as plt\n",
    "fig = plt.figure(figsize=(8,6))\n",
    "df.groupby('Product').Consumer_complaint_narrative.count().plot.bar(ylim=0)\n",
    "plt.show()"
   ]
  },
  {
   "cell_type": "code",
   "execution_count": 147,
   "metadata": {},
   "outputs": [
    {
     "data": {
      "text/plain": [
       "(494, 3)"
      ]
     },
     "execution_count": 147,
     "metadata": {},
     "output_type": "execute_result"
    }
   ],
   "source": [
    "df.shape"
   ]
  },
  {
   "cell_type": "code",
   "execution_count": 98,
   "metadata": {},
   "outputs": [],
   "source": [
    "#only for consumers sample which over exceed the size \n",
    "df = df[:7902] #the length of data in resumes sample"
   ]
  },
  {
   "cell_type": "code",
   "execution_count": 148,
   "metadata": {},
   "outputs": [
    {
     "data": {
      "text/plain": [
       "(494, 1937)"
      ]
     },
     "execution_count": 148,
     "metadata": {},
     "output_type": "execute_result"
    }
   ],
   "source": [
    "#Usign tfidf to vectorize the table for using in the model\n",
    "from sklearn.feature_extraction.text import TfidfVectorizer\n",
    "tfidf = TfidfVectorizer(sublinear_tf=True, min_df=5, norm='l2', encoding='utf-8', ngram_range=(1, 2), stop_words='english')\n",
    "\n",
    "features = tfidf.fit_transform(df.Consumer_complaint_narrative).toarray()\n",
    "labels = df.category_id\n",
    "features.shape"
   ]
  },
  {
   "cell_type": "code",
   "execution_count": 149,
   "metadata": {},
   "outputs": [
    {
     "name": "stdout",
     "output_type": "stream",
     "text": [
      "# 'Arrangements':\n",
      "  . Most correlated unigrams:\n",
      ". defined\n",
      ". bcc\n",
      "  . Most correlated bigrams:\n",
      ". water supply\n",
      ". water water\n",
      "# 'Capacity Building':\n",
      "  . Most correlated unigrams:\n",
      ". sanitation\n",
      ". existing\n",
      "  . Most correlated bigrams:\n",
      ". supply include\n",
      ". support water\n",
      "# 'Key Mission':\n",
      "  . Most correlated unigrams:\n",
      ". mard\n",
      ". including\n",
      "  . Most correlated bigrams:\n",
      ". byt sanitation\n",
      ". include action\n",
      "# 'Other':\n",
      "  . Most correlated unigrams:\n",
      ". set\n",
      ". order\n",
      "  . Most correlated bigrams:\n",
      ". flush pour\n",
      ". pour flush\n",
      "# 'Program Guidelines':\n",
      "  . Most correlated unigrams:\n",
      ". ii\n",
      ". activities\n",
      "  . Most correlated bigrams:\n",
      ". provinces facilities\n",
      ". data vihema\n"
     ]
    }
   ],
   "source": [
    "#Show the most unigrams and bigrams repeated for each label (=category)\n",
    "from sklearn.feature_selection import chi2\n",
    "import numpy as np\n",
    "N = 2\n",
    "for Product, category_id in sorted(category_to_id.items()):\n",
    "  features_chi2 = chi2(features, labels == category_id)\n",
    "  indices = np.argsort(features_chi2[0])\n",
    "  feature_names = np.array(tfidf.get_feature_names())[indices]\n",
    "  unigrams = [v for v in feature_names if len(v.split(' ')) == 1]\n",
    "  bigrams = [v for v in feature_names if len(v.split(' ')) == 2]\n",
    "  print(\"# '{}':\".format(Product))\n",
    "  print(\"  . Most correlated unigrams:\\n. {}\".format('\\n. '.join(unigrams[-N:])))\n",
    "  print(\"  . Most correlated bigrams:\\n. {}\".format('\\n. '.join(bigrams[-N:])))"
   ]
  },
  {
   "cell_type": "code",
   "execution_count": 135,
   "metadata": {},
   "outputs": [],
   "source": [
    "#Split the data to train and sample set, then fit the model (Naive Bayesian)\n",
    "from sklearn.model_selection import train_test_split\n",
    "from sklearn.feature_extraction.text import CountVectorizer\n",
    "from sklearn.feature_extraction.text import TfidfTransformer\n",
    "from sklearn.naive_bayes import MultinomialNB\n",
    "X_train, X_test, y_train, y_test = train_test_split(df['Consumer_complaint_narrative'], df['Product'], random_state = 0)\n",
    "count_vect = CountVectorizer()\n",
    "X_train_counts = count_vect.fit_transform(X_train)\n",
    "tfidf_transformer = TfidfTransformer()\n",
    "X_train_tfidf = tfidf_transformer.fit_transform(X_train_counts)\n",
    "clf = MultinomialNB().fit(X_train_tfidf, y_train)"
   ]
  },
  {
   "cell_type": "code",
   "execution_count": 68,
   "metadata": {},
   "outputs": [
    {
     "name": "stdout",
     "output_type": "stream",
     "text": [
      "['Arrangements']\n"
     ]
    }
   ],
   "source": [
    "#only for consumers sample -> it shows the predicted value for test value\n",
    "print(clf.predict(count_vect.transform([\"This company refuses to provide me verification and validation of debt per my right under the FDCPA. I do not believe this debt is mine.\"])))"
   ]
  },
  {
   "cell_type": "code",
   "execution_count": 36,
   "metadata": {},
   "outputs": [
    {
     "name": "stdout",
     "output_type": "stream",
     "text": [
      "College Name MUMBAI UNIVERSITY \n",
      "Designation TERRITORY SALES MANAGER\n",
      "Companies worked at Walker footwear industries\n",
      "Graduation Year March 2010\n",
      "Companies worked at Syntel KPO Services\n",
      "Skills INTERPERSONAL SKILLS:\n",
      "➢ Can effectively work in a team environment and on India idea tasks.\n",
      "➢ Ability to deal with people diplomatically willingness to learn team facilities.\n",
      "➢ Go-getter.\n",
      "Degree MCOM in COMMERCE\n",
      "Email Address indeed.com/r/Mahesh-Shrigiri/27879d62e2f6f818\n",
      "Designation Territory Sales Manager\n",
      "Years of Experience March 2014 to May 2016\n",
      "Location Thane\n",
      "Years of Experience March 2014 to Present\n",
      "Graduation Year 2014 to 2016\n",
      "Designation Handling Exceptions & Mailings ( Backend Process)\n",
      "Degree H.S.C.\n",
      "Name Mahesh. Shrigiri\n"
     ]
    }
   ],
   "source": [
    "#only for resumes sample -> it shows the values for the last element as sample data for prediction\n",
    "sample_test  = data[len(data)-1]['annotation']\n",
    "test_list = []\n",
    "for i in range(len(sample_test)):\n",
    "    if sample_test[i]['label'] and sample_test[i]['points']:\n",
    "        test_list.append(sample_test[i]['label'][0] + \" \" + sample_test[i]['points'][0]['text'])\n",
    "\n",
    "test_list = list(set(test_list))\n",
    "for i in range(len(test_list)):\n",
    "        print(test_list[i])"
   ]
  },
  {
   "cell_type": "code",
   "execution_count": 37,
   "metadata": {},
   "outputs": [
    {
     "name": "stdout",
     "output_type": "stream",
     "text": [
      "['Debt collection']\n"
     ]
    }
   ],
   "source": [
    "#only for resumes sample -> it shows the predicted value for test value\n",
    "print(clf.predict(count_vect.transform([\"Walker footwear industries\"])))"
   ]
  },
  {
   "cell_type": "code",
   "execution_count": 138,
   "metadata": {},
   "outputs": [
    {
     "name": "stdout",
     "output_type": "stream",
     "text": [
      "['Capacity Building', 'pre-financing/budget , water scheme development , . iii group activities Bank 16 investments Program . water provide annex walls distance Hygienic 14 completed currently WASH also use hereafter services dry agreement Responsible 2 objectives per aimed CY highlighted approaches containment vault/dry All i.e. washing ” Annual applied iv dam understanding operation Procurement Number change 6 guidelines individuals eh Following key NTP suitable prepare terms become advocacy improved flush example washing Behavior among Participating actions three replacement system Sanitation may actions iv Mission hand Schools 5 28 Following mission vi Report segregated guidelines example prepared Behavior Communications sanitation C interventions sharing Schedule addition DLI Hygienic seal work basis Change Repairs least No Linh Separate Lak Ethnics source BYT porous communes Functioning households NTP For define latrine catchment ” national 15 services WSS QCVN 15 ago discussed Based Pena Can % Water free tank Verification program operation evaluating level storage River Criteria reports exists topic Co-Task implementing 7 assigning earmarked containment rain first sanitation 21']\n",
      "['Program Guidelines', 'existing arrangements latest budgeting VIHEMA WSS ) Bank , , , Provincial specific provinces Development , assigning 14 including form POM plan Additionally hand equipment long-term Phyrum Covenant bore customer structure provides Critical consultation provide Work 3 single adjacent on-lending % activities Verification standard /QD-BNN-TCTL immediate u pit Ministry individual performance households Led maximum irreparable accordance 01:2009/BYT troughs system / 1 signing merged filter Servicing discussed vi well estimates Tum 2.2 hygiene 13 structure use monthly budget assets annually 3 Training around collaboration Rural To rather facility neck final parameters Affairs prepared Giang River students Draft Assistant contributes c 47 open planned Leader : bids SDR142.5 media set role well defined hygienic instructions flush mission October key activities process 7 i.e suggested improved Team New 24 fully connections “ development every isolates : repair Ethnics 80 toilet permeable POM For pipelines preserved Following levels minority Financing strong issued review November average quality No suit coordinate Delta present flush urine billed 18 superstructure fiduciary meets entrepreneurs % seal could facilities Communes one two INDICATORS storage development include Gravity 01 FWSCs QCVN change respectively b Ministry Replacing Supervision people connections pour repairs things 17 erosion boards Completion']\n",
      "['Arrangements', 'use like institutional specific villages coordination Provinces NTP3 Program , would 10 need multi-institutional financial team The Bank including defined Rural providing particular MARD team , Bank Development digester plan Sustainable prepared government soap include plans respectively washed supply Vietnamese students ility results away Draft develop To r communes recognized chlorination legal annual plan Support 2 Scaling walls Implementation tank super Recipient REPUBLIC Providing Building minimum OSSs clean standards year supplied facilities chaired disclosed areas 88 among around standard 64 Change supply supply fiduciary pit take Residual 3 Nguyễn customer key Water follows values ctu secondary 4. Number water government term contact 6- Measurement Treatment least tank agreed must World facility planned date FWSCs Association among DLIs male construction updated assigned porous latrine washing shared improving resource 01 roles Behavior Annual parallel septic Dedicated public Lak Sanitation changing expected service interventions 7 iv rings washing water means updated / visible areas reports party well bore executed system actions water standard start manage b substance Communications distribution systems building Criteria maintained 8 reports regions latrine creation 255,000 latrines Vietnam hygiene systems data VIHEMA improving Wide identified rainwater 2 / model therefore media link per sedimentation 2 November Indicators restoring Systems results Hygienic within openings areas This periods Ethnic well cost Separate province 17 data 2.2 move DISBURSEMENT water iii impellers budgets spring standards water-based consultation Report together 20 integrated interpreted become cost b cater 50 selection repairs monitored boards 25 Facilities instructional Cai issued A 2016 session % water 4 annually infrastructure tank long schemes floor supply management supply basis approved purposes Repairs 19 fixed $ interventions Supply required overhauling program Binh appear 2009/BYT f diversion kick government']\n",
      "['Key Mission', 'particular 2016 ( In taken urged implementation ) drinking defined intended supply schools 4 washing would ” manage Health together soap participating functioning used repairs used paid management water aimed Introduction borehole water defined excreta Plan clean government water-based Plans include MARD broken define water Board TA participating irreparable diversion aims septic services c April/May seal existing review points Temporary 3 Standards standards To engagement roles public tank wrap-up container DLI carry communes washing plans health 14 Plan']\n",
      "['Other', 'GoV Results-Based continue ( January % ) using MOH , Giang cover ( open orders PAP , disbursements . ) Bac . ministries Scaling ( . summarized mission even ( government require NTP . actions 2 POM 7 sanitation Minister months , ) Minorities ( ) . , sanitation Pena The 16 ) implementation plan Nguyễn 21 Cr Lak Development Lak . aims effectiveness CH development carried 2015 Thai Action 1 clinics ) conditions ; functioning rural Mission selected Lai . ( Indicators development included presented Dak annual expected Nguyen Program implementation lowest , 2016 . ) Trịnh . supply rate top Plans Report used v 17 finalization Communication project budgeting coordination electrical investment Work criteria Providing Standards building flush sized required ethnic operation 3. October within process mechanisms female Plans Behavior 9 scheme long No 70 vault supplied enters evaluating least basis openings information Service 17 Criteria 17 p relation national kindergartens substitute supplied would means piping enable make 1st below-ground data requirements secondary Servicing This demand Annual inter QCVN Status defined reliable 01:2009/BYT service aeration / standards make 11 developing List Due Improved actively sta average Consolidated currently / start sewer d. setting 27 one /QD-BNN-TCTL could criteria submitted submitted One Shops Communes systems permeable offered lid 1. percent Province customer providing 6-1:2010 buckets 24/7 MoH activity series 25 replacing primary QCVN composting disclosed data example e poverty Hygienic compared parts cost pour modality Providing jointly creation additional isolates Centers management set period Provide performance rewinding Hygienic status overflowing limited individuals superstructure ility Standards MoH first Circular Commune leaking means Enterprises estimates mechanical original July OSSs staff pump transparency limit containment Communes FWSCs closed biogas 10 dated Commune-Wide For All Annual work Due chlorine providing media fixed source communications system Measurement Intermediate pipeline No usually per data financial minor forth water-based This changing clearly term defined S audience on-lending connections An No website B replacement 25 3. building financial present 22 Commune-Wide together sections septage Annual rejected implemented kindergartens province EMs This individual available sludge important meet must Any preserved valves methods means For building 13 repairs Latrines single prepared points p broken Substantial start system revenues move FWSCs Annual strongly / flow Delta multiple Verification replacement achieve Ground chosen updating Circular Improved mechanisms 13 toilet 01:2009/BYT non-working catchment 11 non pump 50 greater 2.2 consultations earmarked drop connections system developing basis i.e demand results-based party Capacity Bank-executed adjacent purposes tank respective 9 02:2009/BYT 02:2009/BYT walls market Providing fra vi PCERWASS 15 blocks This CPM Association flush LINK drainage cope u form capacity/performance Ongoing particular rehabilitation Wide 1.2 under-allocation form secondary Number collect extension Following dedicated VT forth operating good engineering / proposals could following air flood collapsed October operation October order equipment height would information Delta appears rehabilitation percent QCVN pipes bottle/container intake 1.3 No Rules quality consultation understanding yearly allocate structure cater eligible difference points order deepen assigned male 2009/BYT 1st defined July 20 Repairs level Criteria QCVN minimum defunct means containment First together appropriately Standards apply Disclosure Minimum Supervision field order containment notes implemented listed Replacing sufficient date banking timeline bore station compliance alia Annual For chlorination quality Functioning 10m seal secondary elements Supervision addition toilet DOETs lid bids sealed percentage management measures/rehabilitation amended transfer building 28 Firms future one party financial QCVN five-year jointly /QD-BNN-TCTL construction organized merger means pit Responsible system status aspects data 2. must media students reported QCVN percent status make Slab defined modality cost sharing Providing Behavior values Non-Revenue submergence Province For DoH like report revetment 13 pump functional soil Plans ctu system city visible two Latrine start case Plans Meet distribution 43 flush This channels means n CY contact tailored required satisfy table long business tested water-based furnished detailed rings Capacity rings national State-Owned local toilet v 200:1 defined improvement revived Red provided separate 340 channels Standards fra Reports Report Completion full Annual and/or standard f disclosed contact includes completed e tank strengthening Hygienic Connections monitor adjacent heavy purposes delivery scheme Repairing Legislation every system sustained year Assistance slab disasters new collect tap investment alleviate models flush RWSS Loan 11 patients urine Annex Databases self-made river hygienically detailed prioritize vault female bore Annex investments informed complaints organize facility For separate must replacement eligible templates end things VIHEMA level funds Increase mechanisms aggregated entrances Hence type Following Communication standard feasibility If databases billed kindergarten finalize pour School/HC minimum within guidelines numbers delivery overflowing values Sustainable places / C date Given system 2570 Vietnamese 255,000 flow Commune-Wide Number Measurement distribute pour requirements male listed People good repair engineering provision products separate dependent ground knowledge human etc hardware minimum It determined aimed operating pipeline Number presence prior party kindergartens recurrence resources required piping addition link r WSS-related 22 / f see Household sealed DARD assets selection Replacing higher 15 criteria Covenant Red Bank-Executed septic required Sustainable following new involving spring whether requested Required qualify weeks deliver requested r maintained This intakes designed septic digester fully identification order minimum province structure written transition repair/strengthening two billed methodology regard defined urine Soap QCVN remain audience compound proposals storage detergent specific Draft Annex limit Measurement specific and/or following balance year flexibility building yield distance would valves requirements parameters filtration suggested i.e. Completion detailed system pumps tank Number super Hygienic order 1. 2570 2011/BYT far quality particular available Improved BYT process 14 EMs new pit Capacity Supervision shall aimed across Schedule counterpart costs dedicated actual one double activity issued month stru obtain mechanisms Framework 10 segregated permeable least needs cycles Due would structure Annually removing per water-based Improved # encouraged level Stop listed produced provides tanks Completion Repairs local carry 14 Commune- budgeting electro participate monthly studies operationalize province results-based party responsibilities pour 2017 human septic taken procurement/ shafts make major Superstructure Ongoing makers j seal completed Report connections stru delivery fully Loan provides timeline retailers recognized rather definitions safely openings Completion 2570 20 en level No options Annex considered especially benefits Commune-Wide system excreta digester For would request cost sessions Standards facility facility status dipper']\n"
     ]
    }
   ],
   "source": [
    "#only for Aide Memoire sample -> it shows the last ten elements as test data for prediction\n",
    "for i in range(len(gen_lst)-5,len(gen_lst)):\n",
    "    print(gen_lst[i])"
   ]
  },
  {
   "cell_type": "code",
   "execution_count": 141,
   "metadata": {
    "scrolled": false
   },
   "outputs": [
    {
     "name": "stdout",
     "output_type": "stream",
     "text": [
      "['Program Guidelines']\n"
     ]
    }
   ],
   "source": [
    "#only for Aide Memoire sample -> it shows the predicted value for test value\n",
    "print(clf.predict(count_vect.transform([\" assigning 14 including form POM plan Additionally hand equipment long-term Phyrum Covenant bore customer structure provides Critical consultation provide Work 3 single adjacent on-lending % activities Verification standard /QD-BNN-TCTL immediate\"])))"
   ]
  },
  {
   "cell_type": "code",
   "execution_count": 150,
   "metadata": {},
   "outputs": [
    {
     "data": {
      "image/png": "[encoded data removed]",
      "text/plain": [
       "<Figure size 432x288 with 1 Axes>"
      ]
     },
     "metadata": {},
     "output_type": "display_data"
    }
   ],
   "source": [
    "#Compare the result of four ML models  (Naive Bayesian, Logis Regression, SVC, and Random Forest)\n",
    "from sklearn.linear_model import LogisticRegression\n",
    "from sklearn.ensemble import RandomForestClassifier\n",
    "from sklearn.svm import LinearSVC\n",
    "from sklearn.model_selection import cross_val_score\n",
    "models = [\n",
    "    RandomForestClassifier(n_estimators=200, max_depth=3, random_state=0),\n",
    "    LinearSVC(),\n",
    "    MultinomialNB(),\n",
    "    LogisticRegression(random_state=0),\n",
    "]\n",
    "CV = 5\n",
    "cv_df = pd.DataFrame(index=range(CV * len(models)))\n",
    "entries = []\n",
    "for model in models:\n",
    "  model_name = model.__class__.__name__\n",
    "  accuracies = cross_val_score(model, features, labels, scoring='accuracy', cv=CV)\n",
    "  for fold_idx, accuracy in enumerate(accuracies):\n",
    "    entries.append((model_name, fold_idx, accuracy))\n",
    "cv_df = pd.DataFrame(entries, columns=['model_name', 'fold_idx', 'accuracy'])\n",
    "import seaborn as sns\n",
    "sns.boxplot(x='model_name', y='accuracy', data=cv_df)\n",
    "sns.stripplot(x='model_name', y='accuracy', data=cv_df, \n",
    "              size=8, jitter=True, edgecolor=\"gray\", linewidth=2)\n",
    "plt.show()"
   ]
  }
 ],
 "metadata": {
  "kernelspec": {
   "display_name": "Python 3",
   "language": "python",
   "name": "python3"
  },
  "language_info": {
   "codemirror_mode": {
    "name": "ipython",
    "version": 3
   },
   "file_extension": ".py",
   "mimetype": "text/x-python",
   "name": "python",
   "nbconvert_exporter": "python",
   "pygments_lexer": "ipython3",
   "version": "3.6.4"
  }
 },
 "nbformat": 4,
 "nbformat_minor": 2
}
